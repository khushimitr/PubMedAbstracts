{
  "cells": [
    {
      "cell_type": "markdown",
      "metadata": {
        "id": "view-in-github",
        "colab_type": "text"
      },
      "source": [
        "<a href=\"https://colab.research.google.com/github/khushimitr/PubMedAbstracts/blob/main/PubMed_200K_RCT.ipynb\" target=\"_parent\"><img src=\"https://colab.research.google.com/assets/colab-badge.svg\" alt=\"Open In Colab\"/></a>"
      ]
    },
    {
      "cell_type": "markdown",
      "metadata": {
        "id": "6Lry3JEDes8F"
      },
      "source": [
        "```\n",
        "Now we have performed many experiments on 20K RCT dataset and trained it on 10% of that data. \n",
        "We found that **model_1_custom_token_embed_conv1d** and **model_5_tribrid_pos_char_token_embed** \n",
        "were the best performing models. So we will run these 2 experiments for the whole data.\n",
        "```"
      ]
    },
    {
      "cell_type": "code",
      "source": [
        "from google.colab import drive\n",
        "drive.mount('/content/drive')"
      ],
      "metadata": {
        "colab": {
          "base_uri": "https://localhost:8080/"
        },
        "id": "XHZqENAQzB6u",
        "outputId": "ea351a00-41da-4f0e-94ed-2a0085f1da31"
      },
      "execution_count": 2,
      "outputs": [
        {
          "output_type": "stream",
          "name": "stdout",
          "text": [
            "Mounted at /content/drive\n"
          ]
        }
      ]
    },
    {
      "cell_type": "code",
      "execution_count": 1,
      "metadata": {
        "colab": {
          "base_uri": "https://localhost:8080/"
        },
        "id": "eyZgx1tLfLOF",
        "outputId": "cf768846-fddf-45bf-fe71-73b357787cf0"
      },
      "outputs": [
        {
          "output_type": "stream",
          "name": "stdout",
          "text": [
            "GPU 0: Tesla T4 (UUID: GPU-763cdd75-2394-ad5c-959f-6c15f8d23e7f)\n"
          ]
        }
      ],
      "source": [
        "!nvidia-smi -L"
      ]
    },
    {
      "cell_type": "markdown",
      "metadata": {
        "id": "aIg7atbGfi7v"
      },
      "source": [
        "## Get the Data"
      ]
    },
    {
      "cell_type": "code",
      "execution_count": 3,
      "metadata": {
        "colab": {
          "base_uri": "https://localhost:8080/"
        },
        "id": "q4Z2gebCflWT",
        "outputId": "6fba842a-2360-4b2a-e010-7ea90b035012"
      },
      "outputs": [
        {
          "output_type": "stream",
          "name": "stdout",
          "text": [
            "Cloning into 'pubmed-rct'...\n",
            "remote: Enumerating objects: 33, done.\u001b[K\n",
            "remote: Counting objects: 100% (3/3), done.\u001b[K\n",
            "remote: Compressing objects: 100% (3/3), done.\u001b[K\n",
            "remote: Total 33 (delta 0), reused 0 (delta 0), pack-reused 30\u001b[K\n",
            "Unpacking objects: 100% (33/33), done.\n",
            "PubMed_200k_RCT\n",
            "PubMed_200k_RCT_numbers_replaced_with_at_sign\n",
            "PubMed_20k_RCT\n",
            "PubMed_20k_RCT_numbers_replaced_with_at_sign\n",
            "README.md\n"
          ]
        }
      ],
      "source": [
        "!git clone https://github.com/Franck-Dernoncourt/pubmed-rct\n",
        "!ls pubmed-rct"
      ]
    },
    {
      "cell_type": "code",
      "execution_count": 4,
      "metadata": {
        "colab": {
          "base_uri": "https://localhost:8080/"
        },
        "id": "gE7cxtbDfnqM",
        "outputId": "831f41ce-da11-401c-cc00-4b47a2299c3f"
      },
      "outputs": [
        {
          "output_type": "stream",
          "name": "stdout",
          "text": [
            "dev.txt  test.txt  train.zip\n"
          ]
        }
      ],
      "source": [
        "!ls /content/pubmed-rct/PubMed_200k_RCT_numbers_replaced_with_at_sign"
      ]
    },
    {
      "cell_type": "code",
      "execution_count": 5,
      "metadata": {
        "id": "_CMXpJXAfwsb"
      },
      "outputs": [],
      "source": [
        "data_dir = \"/content/pubmed-rct/PubMed_200k_RCT_numbers_replaced_with_at_sign/\""
      ]
    },
    {
      "cell_type": "code",
      "execution_count": 6,
      "metadata": {
        "colab": {
          "base_uri": "https://localhost:8080/"
        },
        "id": "fvBirpLhfzYE",
        "outputId": "32064045-67b2-4431-cc44-ad3ee4f620ce"
      },
      "outputs": [
        {
          "output_type": "execute_result",
          "data": {
            "text/plain": [
              "['/content/pubmed-rct/PubMed_200k_RCT_numbers_replaced_with_at_sign/train.zip',\n",
              " '/content/pubmed-rct/PubMed_200k_RCT_numbers_replaced_with_at_sign/test.txt',\n",
              " '/content/pubmed-rct/PubMed_200k_RCT_numbers_replaced_with_at_sign/dev.txt']"
            ]
          },
          "metadata": {},
          "execution_count": 6
        }
      ],
      "source": [
        "import os\n",
        "\n",
        "filenames = [data_dir + filename for filename in os.listdir(data_dir)]\n",
        "filenames"
      ]
    },
    {
      "cell_type": "code",
      "execution_count": 7,
      "metadata": {
        "colab": {
          "base_uri": "https://localhost:8080/"
        },
        "id": "G8QuDnTof2II",
        "outputId": "bf11bba7-60a2-47fd-d73c-2b614c624386"
      },
      "outputs": [
        {
          "output_type": "stream",
          "name": "stdout",
          "text": [
            "--2022-01-19 12:01:43--  https://raw.githubusercontent.com/khushimitr/HandGestureRecognition/main/helperfunctions.py\n",
            "Resolving raw.githubusercontent.com (raw.githubusercontent.com)... 185.199.108.133, 185.199.109.133, 185.199.110.133, ...\n",
            "Connecting to raw.githubusercontent.com (raw.githubusercontent.com)|185.199.108.133|:443... connected.\n",
            "HTTP request sent, awaiting response... 200 OK\n",
            "Length: 9735 (9.5K) [text/plain]\n",
            "Saving to: ‘helperfunctions.py’\n",
            "\n",
            "helperfunctions.py  100%[===================>]   9.51K  --.-KB/s    in 0s      \n",
            "\n",
            "2022-01-19 12:01:43 (98.1 MB/s) - ‘helperfunctions.py’ saved [9735/9735]\n",
            "\n"
          ]
        }
      ],
      "source": [
        "!wget https://raw.githubusercontent.com/khushimitr/HandGestureRecognition/main/helperfunctions.py\n",
        "\n",
        "from helperfunctions import calculate_results,unzip_data,create_tensorboard_callback, plot_loss_curves"
      ]
    },
    {
      "cell_type": "code",
      "execution_count": 8,
      "metadata": {
        "id": "3ij9XE3SgIo4"
      },
      "outputs": [],
      "source": [
        "unzip_data(\"/content/pubmed-rct/PubMed_200k_RCT_numbers_replaced_with_at_sign/train.zip\")"
      ]
    },
    {
      "cell_type": "code",
      "execution_count": 9,
      "metadata": {
        "id": "OjXG0-zzgSwi"
      },
      "outputs": [],
      "source": [
        "!cp \"/content/train.txt\" \"/content/pubmed-rct/PubMed_200k_RCT_numbers_replaced_with_at_sign/\""
      ]
    },
    {
      "cell_type": "code",
      "execution_count": 10,
      "metadata": {
        "colab": {
          "base_uri": "https://localhost:8080/"
        },
        "id": "1o9ULA7kgkSu",
        "outputId": "f3c2f72e-aea8-4a0a-8b82-7c6a92ba6202"
      },
      "outputs": [
        {
          "output_type": "execute_result",
          "data": {
            "text/plain": [
              "['/content/pubmed-rct/PubMed_200k_RCT_numbers_replaced_with_at_sign/train.zip',\n",
              " '/content/pubmed-rct/PubMed_200k_RCT_numbers_replaced_with_at_sign/test.txt',\n",
              " '/content/pubmed-rct/PubMed_200k_RCT_numbers_replaced_with_at_sign/train.txt',\n",
              " '/content/pubmed-rct/PubMed_200k_RCT_numbers_replaced_with_at_sign/dev.txt']"
            ]
          },
          "metadata": {},
          "execution_count": 10
        }
      ],
      "source": [
        "import os\n",
        "\n",
        "filenames = [data_dir + filename for filename in os.listdir(data_dir)]\n",
        "filenames"
      ]
    },
    {
      "cell_type": "markdown",
      "metadata": {
        "id": "bxNWdkGqgnSG"
      },
      "source": [
        "## Becoming One with data"
      ]
    },
    {
      "cell_type": "code",
      "execution_count": 11,
      "metadata": {
        "id": "WqwZ81NVgsgx"
      },
      "outputs": [],
      "source": [
        "# Create function to read lines of a document\n",
        "def get_lines(filename):\n",
        "    \"\"\"\n",
        "    Reads filename(.txt) and returns the lines of text as a list.\n",
        "    \"\"\"\n",
        "    with open(filename,'r') as f:\n",
        "        return f.readlines()"
      ]
    },
    {
      "cell_type": "code",
      "execution_count": 12,
      "metadata": {
        "colab": {
          "base_uri": "https://localhost:8080/"
        },
        "id": "Nztyt6G6gvZo",
        "outputId": "913dae83-5b5d-4d74-d0db-df1311f44843"
      },
      "outputs": [
        {
          "output_type": "execute_result",
          "data": {
            "text/plain": [
              "['###24491034\\n',\n",
              " 'BACKGROUND\\tThe emergence of HIV as a chronic condition means that people living with HIV are required to take more responsibility for the self-management of their condition , including making physical , emotional and social adjustments .\\n',\n",
              " 'BACKGROUND\\tThis paper describes the design and evaluation of Positive Outlook , an online program aiming to enhance the self-management skills of gay men living with HIV .\\n',\n",
              " 'METHODS\\tThis study is designed as a randomised controlled trial in which men living with HIV in Australia will be assigned to either an intervention group or usual care control group .\\n',\n",
              " \"METHODS\\tThe intervention group will participate in the online group program ` Positive Outlook ' .\\n\",\n",
              " 'METHODS\\tThe program is based on self-efficacy theory and uses a self-management approach to enhance skills , confidence and abilities to manage the psychosocial issues associated with HIV in daily life .\\n',\n",
              " 'METHODS\\tParticipants will access the program for a minimum of @ minutes per week over seven weeks .\\n',\n",
              " 'METHODS\\tPrimary outcomes are domain specific self-efficacy , HIV related quality of life , and outcomes of health education .\\n',\n",
              " 'METHODS\\tSecondary outcomes include : depression , anxiety and stress ; general health and quality of life ; adjustment to HIV ; and social support .\\n',\n",
              " 'METHODS\\tData collection will take place at baseline , completion of the intervention ( or eight weeks post randomisation ) and at @ week follow-up .\\n',\n",
              " 'CONCLUSIONS\\tResults of the Positive Outlook study will provide information regarding the effectiveness of online group programs improving health related outcomes for men living with HIV .\\n',\n",
              " 'BACKGROUND\\tACTRN@ .\\n',\n",
              " '\\n',\n",
              " '###20497432\\n',\n",
              " 'BACKGROUND\\tThe aim of this study was to evaluate the efficacy , safety and complications of orbital steroid injection versus oral steroid therapy in the management of thyroid-related ophthalmopathy .\\n',\n",
              " 'METHODS\\tA total of @ patients suffering from thyroid ophthalmopathy were included in this study .\\n',\n",
              " 'METHODS\\tPatients were randomized into two groups : group I included @ patients treated with oral prednisolone and group II included @ patients treated with peribulbar triamcinolone orbital injection .\\n',\n",
              " 'METHODS\\tOnly @ patients in both groups ( @ female and @ male ) completed the study .\\n',\n",
              " 'RESULTS\\tBoth groups showed improvement in symptoms and in clinical evidence of inflammation with improvement of eye movement and proptosis in most cases .\\n',\n",
              " 'RESULTS\\tMean exophthalmometry value before treatment was @ @ mm that decreased to @ @ mm in group I , compared with @ @ mm that decreased to @ @ mm in group II .\\n']"
            ]
          },
          "metadata": {},
          "execution_count": 12
        }
      ],
      "source": [
        "train_lines = get_lines(data_dir+\"train.txt\")\n",
        "train_lines[:20]"
      ]
    },
    {
      "cell_type": "code",
      "execution_count": 13,
      "metadata": {
        "colab": {
          "base_uri": "https://localhost:8080/"
        },
        "id": "5SD8Q8Nngx8Y",
        "outputId": "fa22defd-a121-4110-9e2e-603033831c67"
      },
      "outputs": [
        {
          "output_type": "execute_result",
          "data": {
            "text/plain": [
              "2593169"
            ]
          },
          "metadata": {},
          "execution_count": 13
        }
      ],
      "source": [
        "len(train_lines)"
      ]
    },
    {
      "cell_type": "markdown",
      "metadata": {
        "id": "nN9WupnDg2pa"
      },
      "source": [
        "## Preprocessing data"
      ]
    },
    {
      "cell_type": "code",
      "execution_count": 14,
      "metadata": {
        "id": "YLEb808Yg7om"
      },
      "outputs": [],
      "source": [
        "def preprocess_text(filename):\n",
        "    \"\"\"\n",
        "    Returns a list of dictionary of abstract line data\n",
        "    \"\"\"\n",
        "    input_lines = get_lines(filename)\n",
        "    abstract_lines = \"\"\n",
        "    abstract_samples = []\n",
        "\n",
        "    for line in input_lines:\n",
        "        if line.startswith(\"###\"):\n",
        "            abstract_id = line\n",
        "            abstract_lines = \"\"\n",
        "        elif line.isspace():\n",
        "            abstract_lines_split = abstract_lines.splitlines()\n",
        "\n",
        "            for abstract_ln_no, abstract_ln in enumerate(abstract_lines_split):\n",
        "                data = {}\n",
        "                target_text_split = abstract_ln.split(\"\\t\")\n",
        "                data[\"target\"] = target_text_split[0]\n",
        "                data[\"text\"] = target_text_split[1].lower()\n",
        "                data[\"line_number\"] = abstract_ln_no\n",
        "                data[\"total_lines\"] = len(abstract_lines_split) - 1\n",
        "                abstract_samples.append(data)\n",
        "        else:\n",
        "            abstract_lines += line\n",
        "\n",
        "    return abstract_samples"
      ]
    },
    {
      "cell_type": "code",
      "execution_count": 15,
      "metadata": {
        "colab": {
          "base_uri": "https://localhost:8080/"
        },
        "id": "Loi9rM3Qg-PX",
        "outputId": "9315485f-ae23-4b4b-a372-f529f07562d3"
      },
      "outputs": [
        {
          "output_type": "stream",
          "name": "stdout",
          "text": [
            "2211861 28932 29493\n"
          ]
        }
      ],
      "source": [
        "val_samples = preprocess_text(data_dir + \"dev.txt\")\n",
        "train_samples = preprocess_text(data_dir + \"train.txt\")\n",
        "test_samples = preprocess_text(data_dir + \"test.txt\")\n",
        "print(len(train_samples),len(val_samples),len(test_samples))"
      ]
    },
    {
      "cell_type": "code",
      "execution_count": 16,
      "metadata": {
        "colab": {
          "base_uri": "https://localhost:8080/"
        },
        "id": "s5Yg0UQnhDZX",
        "outputId": "ab26f328-e7b1-46de-9b7f-e9cc7ea94724"
      },
      "outputs": [
        {
          "output_type": "execute_result",
          "data": {
            "text/plain": [
              "[{'line_number': 0,\n",
              "  'target': 'BACKGROUND',\n",
              "  'text': 'the emergence of hiv as a chronic condition means that people living with hiv are required to take more responsibility for the self-management of their condition , including making physical , emotional and social adjustments .',\n",
              "  'total_lines': 10},\n",
              " {'line_number': 1,\n",
              "  'target': 'BACKGROUND',\n",
              "  'text': 'this paper describes the design and evaluation of positive outlook , an online program aiming to enhance the self-management skills of gay men living with hiv .',\n",
              "  'total_lines': 10},\n",
              " {'line_number': 2,\n",
              "  'target': 'METHODS',\n",
              "  'text': 'this study is designed as a randomised controlled trial in which men living with hiv in australia will be assigned to either an intervention group or usual care control group .',\n",
              "  'total_lines': 10},\n",
              " {'line_number': 3,\n",
              "  'target': 'METHODS',\n",
              "  'text': \"the intervention group will participate in the online group program ` positive outlook ' .\",\n",
              "  'total_lines': 10},\n",
              " {'line_number': 4,\n",
              "  'target': 'METHODS',\n",
              "  'text': 'the program is based on self-efficacy theory and uses a self-management approach to enhance skills , confidence and abilities to manage the psychosocial issues associated with hiv in daily life .',\n",
              "  'total_lines': 10},\n",
              " {'line_number': 5,\n",
              "  'target': 'METHODS',\n",
              "  'text': 'participants will access the program for a minimum of @ minutes per week over seven weeks .',\n",
              "  'total_lines': 10},\n",
              " {'line_number': 6,\n",
              "  'target': 'METHODS',\n",
              "  'text': 'primary outcomes are domain specific self-efficacy , hiv related quality of life , and outcomes of health education .',\n",
              "  'total_lines': 10},\n",
              " {'line_number': 7,\n",
              "  'target': 'METHODS',\n",
              "  'text': 'secondary outcomes include : depression , anxiety and stress ; general health and quality of life ; adjustment to hiv ; and social support .',\n",
              "  'total_lines': 10},\n",
              " {'line_number': 8,\n",
              "  'target': 'METHODS',\n",
              "  'text': 'data collection will take place at baseline , completion of the intervention ( or eight weeks post randomisation ) and at @ week follow-up .',\n",
              "  'total_lines': 10},\n",
              " {'line_number': 9,\n",
              "  'target': 'CONCLUSIONS',\n",
              "  'text': 'results of the positive outlook study will provide information regarding the effectiveness of online group programs improving health related outcomes for men living with hiv .',\n",
              "  'total_lines': 10}]"
            ]
          },
          "metadata": {},
          "execution_count": 16
        }
      ],
      "source": [
        "train_samples[:10]"
      ]
    },
    {
      "cell_type": "code",
      "execution_count": 17,
      "metadata": {
        "colab": {
          "base_uri": "https://localhost:8080/",
          "height": 676
        },
        "id": "IRKbSVVOhIAI",
        "outputId": "40b4352d-e3d6-4ea5-87a4-7ff193dac52c"
      },
      "outputs": [
        {
          "output_type": "execute_result",
          "data": {
            "text/html": [
              "\n",
              "  <div id=\"df-d1e5866f-d70d-4583-9863-ed62bd244c05\">\n",
              "    <div class=\"colab-df-container\">\n",
              "      <div>\n",
              "<style scoped>\n",
              "    .dataframe tbody tr th:only-of-type {\n",
              "        vertical-align: middle;\n",
              "    }\n",
              "\n",
              "    .dataframe tbody tr th {\n",
              "        vertical-align: top;\n",
              "    }\n",
              "\n",
              "    .dataframe thead th {\n",
              "        text-align: right;\n",
              "    }\n",
              "</style>\n",
              "<table border=\"1\" class=\"dataframe\">\n",
              "  <thead>\n",
              "    <tr style=\"text-align: right;\">\n",
              "      <th></th>\n",
              "      <th>target</th>\n",
              "      <th>text</th>\n",
              "      <th>line_number</th>\n",
              "      <th>total_lines</th>\n",
              "    </tr>\n",
              "  </thead>\n",
              "  <tbody>\n",
              "    <tr>\n",
              "      <th>0</th>\n",
              "      <td>BACKGROUND</td>\n",
              "      <td>the emergence of hiv as a chronic condition me...</td>\n",
              "      <td>0</td>\n",
              "      <td>10</td>\n",
              "    </tr>\n",
              "    <tr>\n",
              "      <th>1</th>\n",
              "      <td>BACKGROUND</td>\n",
              "      <td>this paper describes the design and evaluation...</td>\n",
              "      <td>1</td>\n",
              "      <td>10</td>\n",
              "    </tr>\n",
              "    <tr>\n",
              "      <th>2</th>\n",
              "      <td>METHODS</td>\n",
              "      <td>this study is designed as a randomised control...</td>\n",
              "      <td>2</td>\n",
              "      <td>10</td>\n",
              "    </tr>\n",
              "    <tr>\n",
              "      <th>3</th>\n",
              "      <td>METHODS</td>\n",
              "      <td>the intervention group will participate in the...</td>\n",
              "      <td>3</td>\n",
              "      <td>10</td>\n",
              "    </tr>\n",
              "    <tr>\n",
              "      <th>4</th>\n",
              "      <td>METHODS</td>\n",
              "      <td>the program is based on self-efficacy theory a...</td>\n",
              "      <td>4</td>\n",
              "      <td>10</td>\n",
              "    </tr>\n",
              "    <tr>\n",
              "      <th>5</th>\n",
              "      <td>METHODS</td>\n",
              "      <td>participants will access the program for a min...</td>\n",
              "      <td>5</td>\n",
              "      <td>10</td>\n",
              "    </tr>\n",
              "    <tr>\n",
              "      <th>6</th>\n",
              "      <td>METHODS</td>\n",
              "      <td>primary outcomes are domain specific self-effi...</td>\n",
              "      <td>6</td>\n",
              "      <td>10</td>\n",
              "    </tr>\n",
              "    <tr>\n",
              "      <th>7</th>\n",
              "      <td>METHODS</td>\n",
              "      <td>secondary outcomes include : depression , anxi...</td>\n",
              "      <td>7</td>\n",
              "      <td>10</td>\n",
              "    </tr>\n",
              "    <tr>\n",
              "      <th>8</th>\n",
              "      <td>METHODS</td>\n",
              "      <td>data collection will take place at baseline , ...</td>\n",
              "      <td>8</td>\n",
              "      <td>10</td>\n",
              "    </tr>\n",
              "    <tr>\n",
              "      <th>9</th>\n",
              "      <td>CONCLUSIONS</td>\n",
              "      <td>results of the positive outlook study will pro...</td>\n",
              "      <td>9</td>\n",
              "      <td>10</td>\n",
              "    </tr>\n",
              "    <tr>\n",
              "      <th>10</th>\n",
              "      <td>BACKGROUND</td>\n",
              "      <td>actrn@ .</td>\n",
              "      <td>10</td>\n",
              "      <td>10</td>\n",
              "    </tr>\n",
              "    <tr>\n",
              "      <th>11</th>\n",
              "      <td>BACKGROUND</td>\n",
              "      <td>the aim of this study was to evaluate the effi...</td>\n",
              "      <td>0</td>\n",
              "      <td>11</td>\n",
              "    </tr>\n",
              "    <tr>\n",
              "      <th>12</th>\n",
              "      <td>METHODS</td>\n",
              "      <td>a total of @ patients suffering from thyroid o...</td>\n",
              "      <td>1</td>\n",
              "      <td>11</td>\n",
              "    </tr>\n",
              "    <tr>\n",
              "      <th>13</th>\n",
              "      <td>METHODS</td>\n",
              "      <td>patients were randomized into two groups : gro...</td>\n",
              "      <td>2</td>\n",
              "      <td>11</td>\n",
              "    </tr>\n",
              "    <tr>\n",
              "      <th>14</th>\n",
              "      <td>METHODS</td>\n",
              "      <td>only @ patients in both groups ( @ female and ...</td>\n",
              "      <td>3</td>\n",
              "      <td>11</td>\n",
              "    </tr>\n",
              "    <tr>\n",
              "      <th>15</th>\n",
              "      <td>RESULTS</td>\n",
              "      <td>both groups showed improvement in symptoms and...</td>\n",
              "      <td>4</td>\n",
              "      <td>11</td>\n",
              "    </tr>\n",
              "    <tr>\n",
              "      <th>16</th>\n",
              "      <td>RESULTS</td>\n",
              "      <td>mean exophthalmometry value before treatment w...</td>\n",
              "      <td>5</td>\n",
              "      <td>11</td>\n",
              "    </tr>\n",
              "    <tr>\n",
              "      <th>17</th>\n",
              "      <td>RESULTS</td>\n",
              "      <td>mean initial clinical activity score was @ @ a...</td>\n",
              "      <td>6</td>\n",
              "      <td>11</td>\n",
              "    </tr>\n",
              "    <tr>\n",
              "      <th>18</th>\n",
              "      <td>RESULTS</td>\n",
              "      <td>there was no change in the best-corrected visu...</td>\n",
              "      <td>7</td>\n",
              "      <td>11</td>\n",
              "    </tr>\n",
              "    <tr>\n",
              "      <th>19</th>\n",
              "      <td>RESULTS</td>\n",
              "      <td>there was an increase in body weight , blood s...</td>\n",
              "      <td>8</td>\n",
              "      <td>11</td>\n",
              "    </tr>\n",
              "  </tbody>\n",
              "</table>\n",
              "</div>\n",
              "      <button class=\"colab-df-convert\" onclick=\"convertToInteractive('df-d1e5866f-d70d-4583-9863-ed62bd244c05')\"\n",
              "              title=\"Convert this dataframe to an interactive table.\"\n",
              "              style=\"display:none;\">\n",
              "        \n",
              "  <svg xmlns=\"http://www.w3.org/2000/svg\" height=\"24px\"viewBox=\"0 0 24 24\"\n",
              "       width=\"24px\">\n",
              "    <path d=\"M0 0h24v24H0V0z\" fill=\"none\"/>\n",
              "    <path d=\"M18.56 5.44l.94 2.06.94-2.06 2.06-.94-2.06-.94-.94-2.06-.94 2.06-2.06.94zm-11 1L8.5 8.5l.94-2.06 2.06-.94-2.06-.94L8.5 2.5l-.94 2.06-2.06.94zm10 10l.94 2.06.94-2.06 2.06-.94-2.06-.94-.94-2.06-.94 2.06-2.06.94z\"/><path d=\"M17.41 7.96l-1.37-1.37c-.4-.4-.92-.59-1.43-.59-.52 0-1.04.2-1.43.59L10.3 9.45l-7.72 7.72c-.78.78-.78 2.05 0 2.83L4 21.41c.39.39.9.59 1.41.59.51 0 1.02-.2 1.41-.59l7.78-7.78 2.81-2.81c.8-.78.8-2.07 0-2.86zM5.41 20L4 18.59l7.72-7.72 1.47 1.35L5.41 20z\"/>\n",
              "  </svg>\n",
              "      </button>\n",
              "      \n",
              "  <style>\n",
              "    .colab-df-container {\n",
              "      display:flex;\n",
              "      flex-wrap:wrap;\n",
              "      gap: 12px;\n",
              "    }\n",
              "\n",
              "    .colab-df-convert {\n",
              "      background-color: #E8F0FE;\n",
              "      border: none;\n",
              "      border-radius: 50%;\n",
              "      cursor: pointer;\n",
              "      display: none;\n",
              "      fill: #1967D2;\n",
              "      height: 32px;\n",
              "      padding: 0 0 0 0;\n",
              "      width: 32px;\n",
              "    }\n",
              "\n",
              "    .colab-df-convert:hover {\n",
              "      background-color: #E2EBFA;\n",
              "      box-shadow: 0px 1px 2px rgba(60, 64, 67, 0.3), 0px 1px 3px 1px rgba(60, 64, 67, 0.15);\n",
              "      fill: #174EA6;\n",
              "    }\n",
              "\n",
              "    [theme=dark] .colab-df-convert {\n",
              "      background-color: #3B4455;\n",
              "      fill: #D2E3FC;\n",
              "    }\n",
              "\n",
              "    [theme=dark] .colab-df-convert:hover {\n",
              "      background-color: #434B5C;\n",
              "      box-shadow: 0px 1px 3px 1px rgba(0, 0, 0, 0.15);\n",
              "      filter: drop-shadow(0px 1px 2px rgba(0, 0, 0, 0.3));\n",
              "      fill: #FFFFFF;\n",
              "    }\n",
              "  </style>\n",
              "\n",
              "      <script>\n",
              "        const buttonEl =\n",
              "          document.querySelector('#df-d1e5866f-d70d-4583-9863-ed62bd244c05 button.colab-df-convert');\n",
              "        buttonEl.style.display =\n",
              "          google.colab.kernel.accessAllowed ? 'block' : 'none';\n",
              "\n",
              "        async function convertToInteractive(key) {\n",
              "          const element = document.querySelector('#df-d1e5866f-d70d-4583-9863-ed62bd244c05');\n",
              "          const dataTable =\n",
              "            await google.colab.kernel.invokeFunction('convertToInteractive',\n",
              "                                                     [key], {});\n",
              "          if (!dataTable) return;\n",
              "\n",
              "          const docLinkHtml = 'Like what you see? Visit the ' +\n",
              "            '<a target=\"_blank\" href=https://colab.research.google.com/notebooks/data_table.ipynb>data table notebook</a>'\n",
              "            + ' to learn more about interactive tables.';\n",
              "          element.innerHTML = '';\n",
              "          dataTable['output_type'] = 'display_data';\n",
              "          await google.colab.output.renderOutput(dataTable, element);\n",
              "          const docLink = document.createElement('div');\n",
              "          docLink.innerHTML = docLinkHtml;\n",
              "          element.appendChild(docLink);\n",
              "        }\n",
              "      </script>\n",
              "    </div>\n",
              "  </div>\n",
              "  "
            ],
            "text/plain": [
              "         target  ... total_lines\n",
              "0    BACKGROUND  ...          10\n",
              "1    BACKGROUND  ...          10\n",
              "2       METHODS  ...          10\n",
              "3       METHODS  ...          10\n",
              "4       METHODS  ...          10\n",
              "5       METHODS  ...          10\n",
              "6       METHODS  ...          10\n",
              "7       METHODS  ...          10\n",
              "8       METHODS  ...          10\n",
              "9   CONCLUSIONS  ...          10\n",
              "10   BACKGROUND  ...          10\n",
              "11   BACKGROUND  ...          11\n",
              "12      METHODS  ...          11\n",
              "13      METHODS  ...          11\n",
              "14      METHODS  ...          11\n",
              "15      RESULTS  ...          11\n",
              "16      RESULTS  ...          11\n",
              "17      RESULTS  ...          11\n",
              "18      RESULTS  ...          11\n",
              "19      RESULTS  ...          11\n",
              "\n",
              "[20 rows x 4 columns]"
            ]
          },
          "metadata": {},
          "execution_count": 17
        }
      ],
      "source": [
        "import pandas as pd\n",
        "train_df = pd.DataFrame(train_samples)\n",
        "val_df = pd.DataFrame(val_samples)\n",
        "test_df = pd.DataFrame(test_samples)\n",
        "train_df.head(20)"
      ]
    },
    {
      "cell_type": "code",
      "execution_count": 18,
      "metadata": {
        "colab": {
          "base_uri": "https://localhost:8080/"
        },
        "id": "UnPq-4iBhMyX",
        "outputId": "47e9a28d-9545-43bc-a72e-a167a0e43b73"
      },
      "outputs": [
        {
          "output_type": "execute_result",
          "data": {
            "text/plain": [
              "RESULTS        766271\n",
              "METHODS        722586\n",
              "CONCLUSIONS    339714\n",
              "BACKGROUND     196689\n",
              "OBJECTIVE      186601\n",
              "Name: target, dtype: int64"
            ]
          },
          "metadata": {},
          "execution_count": 18
        }
      ],
      "source": [
        "# distrubution of labels in training Data\n",
        "train_df.target.value_counts()"
      ]
    },
    {
      "cell_type": "code",
      "execution_count": 19,
      "metadata": {
        "colab": {
          "base_uri": "https://localhost:8080/",
          "height": 294
        },
        "id": "rQrY89LthPx4",
        "outputId": "abcb79f0-f144-4f48-dc8c-a75a86a398cc"
      },
      "outputs": [
        {
          "output_type": "execute_result",
          "data": {
            "text/plain": [
              "<matplotlib.axes._subplots.AxesSubplot at 0x7f29a1544fd0>"
            ]
          },
          "metadata": {},
          "execution_count": 19
        },
        {
          "output_type": "display_data",
          "data": {
            "image/png": "[encoded data removed]",
            "text/plain": [
              "<Figure size 432x288 with 1 Axes>"
            ]
          },
          "metadata": {
            "needs_background": "light"
          }
        }
      ],
      "source": [
        "# Let's Check the length of different lines\n",
        "train_df.total_lines.hist(grid = False)"
      ]
    },
    {
      "cell_type": "markdown",
      "metadata": {
        "id": "j3LxCMTIhXD4"
      },
      "source": [
        "### Get list of Sentences"
      ]
    },
    {
      "cell_type": "code",
      "execution_count": 20,
      "metadata": {
        "colab": {
          "base_uri": "https://localhost:8080/"
        },
        "id": "JTI4oxu_hZdk",
        "outputId": "51128e19-499b-4921-c51b-129d5164948e"
      },
      "outputs": [
        {
          "output_type": "stream",
          "name": "stdout",
          "text": [
            "2211861 28932 29493\n"
          ]
        }
      ],
      "source": [
        "train_sen = train_df[\"text\"].tolist()\n",
        "val_sen = val_df[\"text\"].tolist()\n",
        "test_sen = test_df[\"text\"].tolist()\n",
        "print(len(train_sen),len(val_sen),len(test_sen))"
      ]
    },
    {
      "cell_type": "code",
      "execution_count": 21,
      "metadata": {
        "colab": {
          "base_uri": "https://localhost:8080/"
        },
        "id": "faMxtDSwha2e",
        "outputId": "c9298695-12fc-4d8a-8d0d-adb3379090bf"
      },
      "outputs": [
        {
          "output_type": "execute_result",
          "data": {
            "text/plain": [
              "['the emergence of hiv as a chronic condition means that people living with hiv are required to take more responsibility for the self-management of their condition , including making physical , emotional and social adjustments .',\n",
              " 'this paper describes the design and evaluation of positive outlook , an online program aiming to enhance the self-management skills of gay men living with hiv .',\n",
              " 'this study is designed as a randomised controlled trial in which men living with hiv in australia will be assigned to either an intervention group or usual care control group .',\n",
              " \"the intervention group will participate in the online group program ` positive outlook ' .\",\n",
              " 'the program is based on self-efficacy theory and uses a self-management approach to enhance skills , confidence and abilities to manage the psychosocial issues associated with hiv in daily life .']"
            ]
          },
          "metadata": {},
          "execution_count": 21
        }
      ],
      "source": [
        "train_sen[:5]"
      ]
    },
    {
      "cell_type": "markdown",
      "metadata": {
        "id": "QAdX2W3OhdN2"
      },
      "source": [
        "### Make Labels (One Hot Encoded and Numerical Encoded)"
      ]
    },
    {
      "cell_type": "code",
      "execution_count": 22,
      "metadata": {
        "colab": {
          "base_uri": "https://localhost:8080/"
        },
        "id": "9bKkyjMIhiap",
        "outputId": "fa85cb80-0a14-483d-eb88-89a16f3337e0"
      },
      "outputs": [
        {
          "output_type": "execute_result",
          "data": {
            "text/plain": [
              "array([[1., 0., 0., 0., 0.],\n",
              "       [1., 0., 0., 0., 0.],\n",
              "       [0., 0., 1., 0., 0.],\n",
              "       ...,\n",
              "       [0., 0., 0., 0., 1.],\n",
              "       [0., 0., 0., 0., 1.],\n",
              "       [0., 0., 0., 0., 1.]])"
            ]
          },
          "metadata": {},
          "execution_count": 22
        }
      ],
      "source": [
        "# One hot encode labels\n",
        "from sklearn.preprocessing import OneHotEncoder\n",
        "one_hot_encoder = OneHotEncoder(sparse = False)\n",
        "train_labels_oh = one_hot_encoder.fit_transform(train_df[\"target\"].to_numpy().reshape(-1,1))\n",
        "val_labels_oh = one_hot_encoder.fit_transform(val_df[\"target\"].to_numpy().reshape(-1,1))\n",
        "test_labels_oh = one_hot_encoder.transform(test_df[\"target\"].to_numpy().reshape(-1,1))\n",
        "\n",
        "train_labels_oh"
      ]
    },
    {
      "cell_type": "code",
      "execution_count": 23,
      "metadata": {
        "colab": {
          "base_uri": "https://localhost:8080/"
        },
        "id": "2klK_xkahnAP",
        "outputId": "74de2bf8-80f4-4c0d-e2e2-9baaffcd3308"
      },
      "outputs": [
        {
          "output_type": "execute_result",
          "data": {
            "text/plain": [
              "array([0, 0, 2, ..., 4, 4, 4])"
            ]
          },
          "metadata": {},
          "execution_count": 23
        }
      ],
      "source": [
        "# Numeric Encoded Labels\n",
        "from sklearn.preprocessing import LabelEncoder\n",
        "label_encoder = LabelEncoder()\n",
        "train_labels_encoded = label_encoder.fit_transform(train_df[\"target\"].to_numpy())\n",
        "val_labels_encoded = label_encoder.transform(val_df[\"target\"].to_numpy())\n",
        "test_labels_encoded = label_encoder.transform(test_df[\"target\"].to_numpy())\n",
        "\n",
        "train_labels_encoded"
      ]
    },
    {
      "cell_type": "code",
      "execution_count": 24,
      "metadata": {
        "colab": {
          "base_uri": "https://localhost:8080/"
        },
        "id": "jO_1qQImhrKc",
        "outputId": "839782b0-824f-44d5-880c-267e48e462e0"
      },
      "outputs": [
        {
          "output_type": "execute_result",
          "data": {
            "text/plain": [
              "(5, array(['BACKGROUND', 'CONCLUSIONS', 'METHODS', 'OBJECTIVE', 'RESULTS'],\n",
              "       dtype=object))"
            ]
          },
          "metadata": {},
          "execution_count": 24
        }
      ],
      "source": [
        "num_classes = len(label_encoder.classes_)\n",
        "class_names = label_encoder.classes_\n",
        "\n",
        "num_classes, class_names"
      ]
    },
    {
      "cell_type": "markdown",
      "metadata": {
        "id": "5vlyfK9PhuVl"
      },
      "source": [
        "## Modelling Experiments"
      ]
    },
    {
      "cell_type": "markdown",
      "metadata": {
        "id": "MPPMdfS2hxaI"
      },
      "source": [
        "### Model 0: MultiNomial Naive Bayes TF-IDF (Baseline)"
      ]
    },
    {
      "cell_type": "code",
      "execution_count": 85,
      "metadata": {
        "id": "I9xdtqpRh1Ah"
      },
      "outputs": [],
      "source": [
        "from sklearn.feature_extraction.text import TfidfVectorizer\n",
        "from sklearn.naive_bayes import MultinomialNB\n",
        "from sklearn.pipeline import Pipeline\n",
        "\n",
        "model_0 = Pipeline([\n",
        "    (\"tf-idf\", TfidfVectorizer()),\n",
        "    (\"clf\", MultinomialNB())\n",
        "])\n",
        "\n",
        "model_0.fit(X = train_sen, y = train_labels_encoded);"
      ]
    },
    {
      "cell_type": "code",
      "execution_count": 86,
      "metadata": {
        "colab": {
          "base_uri": "https://localhost:8080/"
        },
        "id": "0pCteGYKh3vd",
        "outputId": "d0259a66-be75-490d-dd5d-0ca431656278"
      },
      "outputs": [
        {
          "output_type": "execute_result",
          "data": {
            "text/plain": [
              "0.7497580533665146"
            ]
          },
          "metadata": {},
          "execution_count": 86
        }
      ],
      "source": [
        "## Gives Accuracy on Validation Dataset\n",
        "model_0.score(X = val_sen,\n",
        "                 y = val_labels_encoded)"
      ]
    },
    {
      "cell_type": "code",
      "execution_count": 87,
      "metadata": {
        "colab": {
          "base_uri": "https://localhost:8080/"
        },
        "id": "78O7owuUh7KI",
        "outputId": "5f7566e9-108c-4baf-932f-2da7cda95999"
      },
      "outputs": [
        {
          "output_type": "execute_result",
          "data": {
            "text/plain": [
              "array([0, 4, 4, ..., 4, 4, 1])"
            ]
          },
          "metadata": {},
          "execution_count": 87
        }
      ],
      "source": [
        "## Make Predictions\n",
        "baseline_preds = model_0.predict(val_sen)\n",
        "baseline_preds"
      ]
    },
    {
      "cell_type": "code",
      "execution_count": 88,
      "metadata": {
        "colab": {
          "base_uri": "https://localhost:8080/"
        },
        "id": "iD2Cwu0Th8my",
        "outputId": "785b6373-8f68-460c-f073-1e09e9cd9a93"
      },
      "outputs": [
        {
          "output_type": "execute_result",
          "data": {
            "text/plain": [
              "{'accuracy': 74.97580533665146,\n",
              " 'f1': 0.7389570175489825,\n",
              " 'precision': 0.7431966265737352,\n",
              " 'recall': 0.7497580533665146}"
            ]
          },
          "metadata": {},
          "execution_count": 88
        }
      ],
      "source": [
        "baseline_results = calculate_results(y_true = val_labels_encoded,\n",
        "                                     y_pred = baseline_preds)\n",
        "baseline_results"
      ]
    },
    {
      "cell_type": "markdown",
      "metadata": {
        "id": "TSdFVHfxiFmy"
      },
      "source": [
        "### Text Vectorization Layer"
      ]
    },
    {
      "cell_type": "code",
      "execution_count": 89,
      "metadata": {
        "id": "bxrGfo-fiQlq"
      },
      "outputs": [],
      "source": [
        "import numpy as np\n",
        "import tensorflow as tf\n",
        "from tensorflow.keras import layers"
      ]
    },
    {
      "cell_type": "code",
      "execution_count": 90,
      "metadata": {
        "colab": {
          "base_uri": "https://localhost:8080/"
        },
        "id": "hHhRGwaViTEM",
        "outputId": "71df7449-b95d-4248-fb1f-262673d011dc"
      },
      "outputs": [
        {
          "output_type": "execute_result",
          "data": {
            "text/plain": [
              "26.229355280462922"
            ]
          },
          "metadata": {},
          "execution_count": 90
        }
      ],
      "source": [
        "# How long is each sentence?\n",
        "sen_lens = [len(sentence.split()) for sentence in train_sen]\n",
        "avg_sen_len = np.mean(sen_lens)\n",
        "avg_sen_len"
      ]
    },
    {
      "cell_type": "code",
      "execution_count": 91,
      "metadata": {
        "colab": {
          "base_uri": "https://localhost:8080/",
          "height": 439
        },
        "id": "vRrhoPZ5iVvx",
        "outputId": "ca0fea7f-6ee4-4974-e5fc-6ad132d3ada5"
      },
      "outputs": [
        {
          "output_type": "execute_result",
          "data": {
            "text/plain": [
              "(array([6.656900e+05, 1.064939e+06, 3.491070e+05, 9.095700e+04,\n",
              "        2.651300e+04, 8.980000e+03, 3.125000e+03, 1.374000e+03,\n",
              "        5.800000e+02, 2.770000e+02, 1.350000e+02, 7.100000e+01,\n",
              "        5.200000e+01, 2.400000e+01, 1.900000e+01, 6.000000e+00,\n",
              "        4.000000e+00, 5.000000e+00, 1.000000e+00, 2.000000e+00]),\n",
              " array([  1.  ,  17.85,  34.7 ,  51.55,  68.4 ,  85.25, 102.1 , 118.95,\n",
              "        135.8 , 152.65, 169.5 , 186.35, 203.2 , 220.05, 236.9 , 253.75,\n",
              "        270.6 , 287.45, 304.3 , 321.15, 338.  ]),\n",
              " <a list of 20 Patch objects>)"
            ]
          },
          "metadata": {},
          "execution_count": 91
        },
        {
          "output_type": "display_data",
          "data": {
            "image/png": "[encoded data removed]",
            "text/plain": [
              "<Figure size 432x288 with 1 Axes>"
            ]
          },
          "metadata": {
            "needs_background": "light"
          }
        }
      ],
      "source": [
        "# Distribution of sentences length\n",
        "import matplotlib.pyplot as plt\n",
        "plt.hist(sen_lens,bins = 20)"
      ]
    },
    {
      "cell_type": "code",
      "execution_count": 92,
      "metadata": {
        "colab": {
          "base_uri": "https://localhost:8080/"
        },
        "id": "zlSpQ3WSigd9",
        "outputId": "df9e9b34-129d-4f7e-b1cf-191cc4dbcc44"
      },
      "outputs": [
        {
          "output_type": "execute_result",
          "data": {
            "text/plain": [
              "54"
            ]
          },
          "metadata": {},
          "execution_count": 92
        }
      ],
      "source": [
        "# How long of a sentence covers 95% of the lengths?\n",
        "output_seq_len = int(np.percentile(sen_lens,95))\n",
        "output_seq_len"
      ]
    },
    {
      "cell_type": "code",
      "execution_count": 93,
      "metadata": {
        "colab": {
          "base_uri": "https://localhost:8080/"
        },
        "id": "oYz_rdkFihbB",
        "outputId": "ec83cfbe-fd3c-4c94-c34b-599f31a5fd82"
      },
      "outputs": [
        {
          "output_type": "execute_result",
          "data": {
            "text/plain": [
              "338"
            ]
          },
          "metadata": {},
          "execution_count": 93
        }
      ],
      "source": [
        "max(sen_lens)"
      ]
    },
    {
      "cell_type": "markdown",
      "metadata": {
        "id": "tu-stKDci3BD"
      },
      "source": [
        "```\n",
        "# How many words are in our vocab? (taken from table 3.2 in : https://arxiv.org/pdf/1710.06071.pdf)\n",
        "\n",
        "```"
      ]
    },
    {
      "cell_type": "code",
      "execution_count": 94,
      "metadata": {
        "id": "UB970c8ZijXh"
      },
      "outputs": [],
      "source": [
        "max_tokens = 331000"
      ]
    },
    {
      "cell_type": "code",
      "execution_count": 95,
      "metadata": {
        "id": "5yk6u3U_i2f4"
      },
      "outputs": [],
      "source": [
        "from tensorflow.keras.layers.experimental.preprocessing import TextVectorization\n",
        "\n",
        "text_vectorizer = TextVectorization(max_tokens = max_tokens,\n",
        "                                    output_sequence_length = output_seq_len)"
      ]
    },
    {
      "cell_type": "code",
      "execution_count": 96,
      "metadata": {
        "colab": {
          "base_uri": "https://localhost:8080/"
        },
        "id": "InBKubriWeJI",
        "outputId": "1eabdafe-d088-4dec-aafa-f144bb2e1b37"
      },
      "outputs": [
        {
          "output_type": "execute_result",
          "data": {
            "text/plain": [
              "<PrefetchDataset shapes: (None,), types: tf.string>"
            ]
          },
          "metadata": {},
          "execution_count": 96
        }
      ],
      "source": [
        "train_sen_dataset = tf.data.Dataset.from_tensor_slices(train_sen)\n",
        "train_sen_dataset = train_sen_dataset.batch(32).prefetch(tf.data.AUTOTUNE)\n",
        "train_sen_dataset"
      ]
    },
    {
      "cell_type": "code",
      "execution_count": 97,
      "metadata": {
        "id": "8e1CKr0ri_U1"
      },
      "outputs": [],
      "source": [
        "text_vectorizer.adapt(train_sen_dataset)"
      ]
    },
    {
      "cell_type": "code",
      "execution_count": 98,
      "metadata": {
        "colab": {
          "base_uri": "https://localhost:8080/"
        },
        "id": "lq8r4LN0jA18",
        "outputId": "9b3cb4ba-d92e-42bb-bf1e-2243727a2252"
      },
      "outputs": [
        {
          "output_type": "stream",
          "name": "stdout",
          "text": [
            "Text:\n",
            "to compare the effectiveness of scaling and root planing ( srp ) with the use of hand instruments to that of non-surgical treatment with the use of an ultrasonic device , using clinical and microbiological criteria .\n",
            "\n",
            "Length of text : 37\n",
            "\n",
            "Vectorized text : [[   6  207    2  298    3 3441    4 1344 5242 3521    7    2   84    3\n",
            "  1110 2495    6   26    3 4753   17    7    2   84    3   30 4101  751\n",
            "    66   48    4 4735  400    0    0    0    0    0    0    0    0    0\n",
            "     0    0    0    0    0    0    0    0    0    0    0    0]]\n"
          ]
        }
      ],
      "source": [
        "import random\n",
        "target_sen = random.choice(train_sen)\n",
        "print(f\"Text:\\n{target_sen}\")\n",
        "print(f\"\\nLength of text : {len(target_sen.split())}\")\n",
        "print(f\"\\nVectorized text : {text_vectorizer([target_sen])}\")"
      ]
    },
    {
      "cell_type": "code",
      "execution_count": 99,
      "metadata": {
        "colab": {
          "base_uri": "https://localhost:8080/"
        },
        "id": "VgZ4DAFUjCXr",
        "outputId": "1e69def9-f38a-4ebb-d2b9-2837c38a1488"
      },
      "outputs": [
        {
          "output_type": "stream",
          "name": "stdout",
          "text": [
            "Number of words in vocab: 247961\n",
            "Most common words in vocab: ['', '[UNK]', 'the', 'of', 'and']\n",
            "Least common words in vocab: ['aaae', 'aaacp', 'aaabbb', 'aaaanalog', 'aaaa']\n"
          ]
        }
      ],
      "source": [
        "# How many words in our training vocab\n",
        "text_vocab = text_vectorizer.get_vocabulary()\n",
        "print(f\"Number of words in vocab: {len(text_vocab)}\")\n",
        "print(f\"Most common words in vocab: {text_vocab[:5]}\")\n",
        "print(f\"Least common words in vocab: {text_vocab[-5:]}\")"
      ]
    },
    {
      "cell_type": "code",
      "execution_count": 100,
      "metadata": {
        "colab": {
          "base_uri": "https://localhost:8080/"
        },
        "id": "1qEA9f5QjEJk",
        "outputId": "69ac9548-6803-42f8-bb8e-a4e8c0f4de8d"
      },
      "outputs": [
        {
          "output_type": "execute_result",
          "data": {
            "text/plain": [
              "{'batch_input_shape': (None,),\n",
              " 'dtype': 'string',\n",
              " 'idf_weights': None,\n",
              " 'max_tokens': 331000,\n",
              " 'name': 'text_vectorization',\n",
              " 'ngrams': None,\n",
              " 'output_mode': 'int',\n",
              " 'output_sequence_length': 54,\n",
              " 'pad_to_max_tokens': False,\n",
              " 'ragged': False,\n",
              " 'sparse': False,\n",
              " 'split': 'whitespace',\n",
              " 'standardize': 'lower_and_strip_punctuation',\n",
              " 'trainable': True,\n",
              " 'vocabulary': None}"
            ]
          },
          "metadata": {},
          "execution_count": 100
        }
      ],
      "source": [
        "text_vectorizer.get_config()"
      ]
    },
    {
      "cell_type": "markdown",
      "metadata": {
        "id": "uQMFW5pgjSZn"
      },
      "source": [
        "### Create Custom Embedding layer"
      ]
    },
    {
      "cell_type": "code",
      "execution_count": 101,
      "metadata": {
        "id": "Gzdu05x8j392"
      },
      "outputs": [],
      "source": [
        "token_embed = layers.Embedding(input_dim=len(text_vocab),\n",
        "                               output_dim = 128,\n",
        "                               mask_zero = True,\n",
        "                               name = \"token_embedding\")"
      ]
    },
    {
      "cell_type": "code",
      "execution_count": 102,
      "metadata": {
        "colab": {
          "base_uri": "https://localhost:8080/"
        },
        "id": "uOby_NTij6mp",
        "outputId": "a051d49c-a5d4-4699-80c9-63c72e44e21f"
      },
      "outputs": [
        {
          "output_type": "stream",
          "name": "stdout",
          "text": [
            "Sentence before vectorization:\n",
            "to compare the effectiveness of scaling and root planing ( srp ) with the use of hand instruments to that of non-surgical treatment with the use of an ultrasonic device , using clinical and microbiological criteria .\n",
            "Sentence after vectorization(before embedding):\n",
            "[[   6  207    2  298    3 3441    4 1344 5242 3521    7    2   84    3\n",
            "  1110 2495    6   26    3 4753   17    7    2   84    3   30 4101  751\n",
            "    66   48    4 4735  400    0    0    0    0    0    0    0    0    0\n",
            "     0    0    0    0    0    0    0    0    0    0    0    0]]\n",
            "Sentence after embedding):\n",
            "[[[-0.01945722  0.04908407  0.01956571 ...  0.01804072  0.01941052\n",
            "   -0.01828914]\n",
            "  [-0.03796673 -0.01744317 -0.01338295 ... -0.02801871 -0.03508598\n",
            "    0.01281573]\n",
            "  [-0.00077726 -0.01697133 -0.01830183 ...  0.02440922  0.02508927\n",
            "    0.04589385]\n",
            "  ...\n",
            "  [-0.00569184 -0.04236834 -0.02408779 ...  0.01693222 -0.02763097\n",
            "    0.04255207]\n",
            "  [-0.00569184 -0.04236834 -0.02408779 ...  0.01693222 -0.02763097\n",
            "    0.04255207]\n",
            "  [-0.00569184 -0.04236834 -0.02408779 ...  0.01693222 -0.02763097\n",
            "    0.04255207]]]\n",
            "\n",
            "Embedded Sentence shape : (1, 54, 128)\n"
          ]
        }
      ],
      "source": [
        "print(f\"Sentence before vectorization:\\n{target_sen}\")\n",
        "vectorized_sen = text_vectorizer([target_sen])\n",
        "print(f\"Sentence after vectorization(before embedding):\\n{vectorized_sen}\")\n",
        "embedded_sen = token_embed(vectorized_sen)\n",
        "print(f\"Sentence after embedding):\\n{embedded_sen}\\n\")\n",
        "print(f\"Embedded Sentence shape : {embedded_sen.shape}\")"
      ]
    },
    {
      "cell_type": "markdown",
      "metadata": {
        "id": "SS89BHBVj88G"
      },
      "source": [
        "### Creating Datasets For our Model 1"
      ]
    },
    {
      "cell_type": "code",
      "execution_count": 103,
      "metadata": {
        "colab": {
          "base_uri": "https://localhost:8080/"
        },
        "id": "KHwfRAbKkC6a",
        "outputId": "0971a71d-042d-40ca-dbda-41646dd92e5e"
      },
      "outputs": [
        {
          "output_type": "execute_result",
          "data": {
            "text/plain": [
              "<TensorSliceDataset shapes: ((), (5,)), types: (tf.string, tf.float64)>"
            ]
          },
          "metadata": {},
          "execution_count": 103
        }
      ],
      "source": [
        "train_dataset = tf.data.Dataset.from_tensor_slices((train_sen,train_labels_oh))\n",
        "valid_dataset = tf.data.Dataset.from_tensor_slices((val_sen,val_labels_oh))\n",
        "test_dataset = tf.data.Dataset.from_tensor_slices((test_sen,test_labels_oh))\n",
        " \n",
        "train_dataset"
      ]
    },
    {
      "cell_type": "code",
      "execution_count": 104,
      "metadata": {
        "colab": {
          "base_uri": "https://localhost:8080/"
        },
        "id": "im8Gi2OpkEbc",
        "outputId": "3c272b5b-ba28-4a3a-850f-28fbe594e019"
      },
      "outputs": [
        {
          "output_type": "execute_result",
          "data": {
            "text/plain": [
              "<PrefetchDataset shapes: ((None,), (None, 5)), types: (tf.string, tf.float64)>"
            ]
          },
          "metadata": {},
          "execution_count": 104
        }
      ],
      "source": [
        "train_dataset = train_dataset.batch(32).prefetch(tf.data.AUTOTUNE)\n",
        "valid_dataset = valid_dataset.batch(32).prefetch(tf.data.AUTOTUNE)\n",
        "test_dataset = test_dataset.batch(32).prefetch(tf.data.AUTOTUNE)\n",
        "\n",
        "train_dataset"
      ]
    },
    {
      "cell_type": "markdown",
      "metadata": {
        "id": "V9QeAf6IkFrB"
      },
      "source": [
        "### Model 1 : Conv1D with custom Token Embeddings"
      ]
    },
    {
      "cell_type": "code",
      "execution_count": 105,
      "metadata": {
        "id": "gqXCqF_nkM6_"
      },
      "outputs": [],
      "source": [
        "inputs = layers.Input(shape = (1,), dtype = tf.string)\n",
        "text_vectors = text_vectorizer(inputs)\n",
        "token_embeddings= token_embed(text_vectors)\n",
        "x = layers.Conv1D(64,kernel_size=5,padding=\"same\",activation=\"relu\")(token_embeddings)\n",
        "x = layers.GlobalMaxPooling1D()(x)\n",
        "x = layers.Dropout(0.5)(x)\n",
        "outputs = layers.Dense(num_classes,activation=\"softmax\")(x)\n",
        "\n",
        "model_1 = tf.keras.Model(inputs,outputs)\n",
        "\n",
        "model_1.compile(loss = tf.keras.losses.categorical_crossentropy,\n",
        "                optimizer = tf.keras.optimizers.Adam(),\n",
        "                metrics = [\"accuracy\"])"
      ]
    },
    {
      "cell_type": "code",
      "execution_count": 106,
      "metadata": {
        "colab": {
          "base_uri": "https://localhost:8080/"
        },
        "id": "DvES_QW7kUne",
        "outputId": "f337f463-52aa-4a5f-c470-4fd802d3923e"
      },
      "outputs": [
        {
          "output_type": "stream",
          "name": "stdout",
          "text": [
            "Model: \"model_4\"\n",
            "_________________________________________________________________\n",
            " Layer (type)                Output Shape              Param #   \n",
            "=================================================================\n",
            " input_2 (InputLayer)        [(None, 1)]               0         \n",
            "                                                                 \n",
            " text_vectorization (TextVec  (None, 54)               0         \n",
            " torization)                                                     \n",
            "                                                                 \n",
            " token_embedding (Embedding)  (None, 54, 128)          31739008  \n",
            "                                                                 \n",
            " conv1d (Conv1D)             (None, 54, 64)            41024     \n",
            "                                                                 \n",
            " global_max_pooling1d (Globa  (None, 64)               0         \n",
            " lMaxPooling1D)                                                  \n",
            "                                                                 \n",
            " dropout_1 (Dropout)         (None, 64)                0         \n",
            "                                                                 \n",
            " dense_4 (Dense)             (None, 5)                 325       \n",
            "                                                                 \n",
            "=================================================================\n",
            "Total params: 31,780,357\n",
            "Trainable params: 31,780,357\n",
            "Non-trainable params: 0\n",
            "_________________________________________________________________\n"
          ]
        }
      ],
      "source": [
        "model_1.summary()"
      ]
    },
    {
      "cell_type": "code",
      "execution_count": 107,
      "metadata": {
        "colab": {
          "base_uri": "https://localhost:8080/",
          "height": 754
        },
        "id": "tAF_vVLpkWSv",
        "outputId": "3bc35050-9b7c-45b0-81de-1bd5c9e776bb"
      },
      "outputs": [
        {
          "output_type": "execute_result",
          "data": {
            "image/png": "[encoded data removed]",
            "text/plain": [
              "<IPython.core.display.Image object>"
            ]
          },
          "metadata": {},
          "execution_count": 107
        }
      ],
      "source": [
        "tf.keras.utils.plot_model(model_1,show_shapes=True)"
      ]
    },
    {
      "cell_type": "code",
      "execution_count": 108,
      "metadata": {
        "id": "STOn2uJRcBCR"
      },
      "outputs": [],
      "source": [
        "run_dir = \"/content/drive/MyDrive/machine_learning/Checkpoints/Model1/\"\n",
        "checkpoint_path = os.path.join(run_dir,'model-{epoch:02d}-{val_loss:02f}.ckpt')\n",
        "checkpoint_callback = tf.keras.callbacks.ModelCheckpoint(checkpoint_path, save_weights_only=True, monitor=\"val_accuracy\")"
      ]
    },
    {
      "cell_type": "code",
      "source": [
        "# rm -r \"/content/drive/MyDrive/machine_learning/Checkpoints/Model1/\""
      ],
      "metadata": {
        "id": "ge-LwqCpfP_V"
      },
      "execution_count": null,
      "outputs": []
    },
    {
      "cell_type": "code",
      "source": [
        "# os.mkdir(\"/content/drive/MyDrive/machine_learning/Checkpoints/Model1\")"
      ],
      "metadata": {
        "id": "UzL8y3S2fmA_"
      },
      "execution_count": null,
      "outputs": []
    },
    {
      "cell_type": "code",
      "source": [
        "model_1.save_weights(checkpoint_path.format(epoch=0,val_loss=0.00))"
      ],
      "metadata": {
        "id": "sxMS3Ma8e4jC"
      },
      "execution_count": 109,
      "outputs": []
    },
    {
      "cell_type": "code",
      "execution_count": 110,
      "metadata": {
        "colab": {
          "base_uri": "https://localhost:8080/"
        },
        "id": "9BxsG6Q1b-X3",
        "outputId": "b4e52de8-9077-4847-d996-00eb79ed564b"
      },
      "outputs": [
        {
          "output_type": "stream",
          "name": "stdout",
          "text": [
            "Saving TensorBoard log files to: PubMedAbstracts/model_1_Conv1D/20220119-124644\n",
            "Epoch 1/4\n",
            "13824/13824 [==============================] - 294s 21ms/step - loss: 0.5877 - accuracy: 0.7913 - val_loss: 0.4714 - val_accuracy: 0.8271\n",
            "Epoch 2/4\n",
            "13824/13824 [==============================] - 287s 21ms/step - loss: 0.5299 - accuracy: 0.8126 - val_loss: 0.4562 - val_accuracy: 0.8375\n",
            "Epoch 3/4\n",
            "13824/13824 [==============================] - 288s 21ms/step - loss: 0.5188 - accuracy: 0.8172 - val_loss: 0.4485 - val_accuracy: 0.8368\n",
            "Epoch 4/4\n",
            "13824/13824 [==============================] - 287s 21ms/step - loss: 0.5094 - accuracy: 0.8189 - val_loss: 0.4348 - val_accuracy: 0.8410\n"
          ]
        }
      ],
      "source": [
        "history_model_1 = model_1.fit(\n",
        "    train_dataset,\n",
        "    epochs = 4,\n",
        "    steps_per_epoch = int(0.2 * len(train_dataset)),\n",
        "    validation_data = valid_dataset,\n",
        "    validation_steps = int(0.1*len(valid_dataset)),\n",
        "    callbacks = [checkpoint_callback,create_tensorboard_callback(\"PubMedAbstracts\",\"model_1_Conv1D\")]\n",
        ")"
      ]
    },
    {
      "cell_type": "code",
      "source": [
        "checkpoint_dir = os.path.dirname(checkpoint_path)"
      ],
      "metadata": {
        "id": "RNVLpMTrcW9w"
      },
      "execution_count": 111,
      "outputs": []
    },
    {
      "cell_type": "code",
      "source": [
        "latest = tf.train.latest_checkpoint(checkpoint_dir)\n",
        "latest"
      ],
      "metadata": {
        "colab": {
          "base_uri": "https://localhost:8080/",
          "height": 35
        },
        "id": "LY6XowdGgSga",
        "outputId": "57631a00-170a-425a-e676-10b2a42b7056"
      },
      "execution_count": 112,
      "outputs": [
        {
          "output_type": "execute_result",
          "data": {
            "application/vnd.google.colaboratory.intrinsic+json": {
              "type": "string"
            },
            "text/plain": [
              "'/content/drive/MyDrive/machine_learning/Checkpoints/Model1/model-04-0.434800.ckpt'"
            ]
          },
          "metadata": {},
          "execution_count": 112
        }
      ]
    },
    {
      "cell_type": "code",
      "source": [
        "# model_1.load_weights(latest)"
      ],
      "metadata": {
        "colab": {
          "base_uri": "https://localhost:8080/"
        },
        "id": "Mfs8qgQKgbyQ",
        "outputId": "ac020b78-3b47-412a-93f0-029d78669879"
      },
      "execution_count": null,
      "outputs": [
        {
          "output_type": "execute_result",
          "data": {
            "text/plain": [
              "<tensorflow.python.training.tracking.util.CheckpointLoadStatus at 0x7f9068890ad0>"
            ]
          },
          "metadata": {},
          "execution_count": 80
        }
      ]
    },
    {
      "cell_type": "code",
      "execution_count": 113,
      "metadata": {
        "colab": {
          "base_uri": "https://localhost:8080/",
          "height": 573
        },
        "id": "UVDqEbR0lYZu",
        "outputId": "575e1c7e-0354-44d0-a0f3-7d0a62629516"
      },
      "outputs": [
        {
          "output_type": "display_data",
          "data": {
            "image/png": "[encoded data removed]",
            "text/plain": [
              "<Figure size 432x288 with 1 Axes>"
            ]
          },
          "metadata": {
            "needs_background": "light"
          }
        },
        {
          "output_type": "display_data",
          "data": {
            "image/png": "[encoded data removed]",
            "text/plain": [
              "<Figure size 432x288 with 1 Axes>"
            ]
          },
          "metadata": {
            "needs_background": "light"
          }
        }
      ],
      "source": [
        "plot_loss_curves(history_model_1)"
      ]
    },
    {
      "cell_type": "code",
      "execution_count": 114,
      "metadata": {
        "colab": {
          "base_uri": "https://localhost:8080/"
        },
        "id": "w7sHacdFlloH",
        "outputId": "87f3efef-8b99-47b1-d4be-60ef2ae10f4d"
      },
      "outputs": [
        {
          "output_type": "stream",
          "name": "stdout",
          "text": [
            "905/905 [==============================] - 3s 3ms/step - loss: 0.4352 - accuracy: 0.8431\n"
          ]
        },
        {
          "output_type": "execute_result",
          "data": {
            "text/plain": [
              "[0.43523359298706055, 0.8431494832038879]"
            ]
          },
          "metadata": {},
          "execution_count": 114
        }
      ],
      "source": [
        "model_1.evaluate(valid_dataset)"
      ]
    },
    {
      "cell_type": "code",
      "execution_count": 115,
      "metadata": {
        "colab": {
          "base_uri": "https://localhost:8080/"
        },
        "id": "v98nDDNDlnwQ",
        "outputId": "f1ffc03b-92ef-4378-8979-4576f6d3d310"
      },
      "outputs": [
        {
          "output_type": "execute_result",
          "data": {
            "text/plain": [
              "(28932, 5)"
            ]
          },
          "metadata": {},
          "execution_count": 115
        }
      ],
      "source": [
        "model_1_pred_probs = model_1.predict(valid_dataset)\n",
        "model_1_pred_probs.shape"
      ]
    },
    {
      "cell_type": "code",
      "execution_count": 116,
      "metadata": {
        "colab": {
          "base_uri": "https://localhost:8080/"
        },
        "id": "Q7zeZcdzlpYu",
        "outputId": "5eeffc3d-62b7-4889-9ba0-fa156a3b18f8"
      },
      "outputs": [
        {
          "output_type": "execute_result",
          "data": {
            "text/plain": [
              "<tf.Tensor: shape=(28932,), dtype=int64, numpy=array([0, 2, 4, ..., 4, 4, 1])>"
            ]
          },
          "metadata": {},
          "execution_count": 116
        }
      ],
      "source": [
        "model_1_preds = tf.argmax(model_1_pred_probs,axis = 1)\n",
        "model_1_preds"
      ]
    },
    {
      "cell_type": "code",
      "execution_count": 117,
      "metadata": {
        "colab": {
          "base_uri": "https://localhost:8080/"
        },
        "id": "kTdXG8ialqli",
        "outputId": "3fe0b6c5-7d97-47b4-9208-321f2a38bb43"
      },
      "outputs": [
        {
          "output_type": "execute_result",
          "data": {
            "text/plain": [
              "{'accuracy': 84.31494538918844,\n",
              " 'f1': 0.840380475217552,\n",
              " 'precision': 0.8402848025550695,\n",
              " 'recall': 0.8431494538918844}"
            ]
          },
          "metadata": {},
          "execution_count": 117
        }
      ],
      "source": [
        "model_1_results = calculate_results(y_pred=model_1_preds,\n",
        "                                    y_true = val_labels_encoded)\n",
        "model_1_results"
      ]
    },
    {
      "cell_type": "code",
      "source": [
        "# model_1.save(\"/content/drive/MyDrive/machine_learning/Conv1DPubMed\")"
      ],
      "metadata": {
        "colab": {
          "base_uri": "https://localhost:8080/"
        },
        "id": "dH90EMJZYVTc",
        "outputId": "52e9951d-4dae-40db-aaee-dc8e04d77518"
      },
      "execution_count": null,
      "outputs": [
        {
          "output_type": "stream",
          "name": "stdout",
          "text": [
            "INFO:tensorflow:Assets written to: /content/drive/MyDrive/machine_learning/Conv1DPubMed/assets\n"
          ]
        }
      ]
    },
    {
      "cell_type": "code",
      "source": [
        "# import tensorflow_hub as hub\n",
        "# import tensorflow as tf\n",
        "# from tensorflow.keras.layers import TextVectorization\n",
        "\n",
        "# model_path = \"/content/drive/MyDrive/machine_learning/Conv1DPubMed\"\n",
        "# loaded_model = tf.keras.models.load_model(model_path,custom_objects={\"TextVectorization\": TextVectorization,\"KerasLayer\": hub.KerasLayer})"
      ],
      "metadata": {
        "id": "tddG3d5OYsut"
      },
      "execution_count": null,
      "outputs": []
    },
    {
      "cell_type": "markdown",
      "metadata": {
        "id": "PzD1qawQlr6c"
      },
      "source": [
        "### PreTrained Token Embeddings"
      ]
    },
    {
      "cell_type": "code",
      "execution_count": 25,
      "metadata": {
        "id": "uszrBt7kl5J5"
      },
      "outputs": [],
      "source": [
        "import tensorflow_hub as hub\n",
        "tf_hub_embedding_layer = hub.KerasLayer(\n",
        "    \"https://tfhub.dev/google/universal-sentence-encoder/4\",\n",
        "    trainable = False,\n",
        "    name = \"USE\"\n",
        ")"
      ]
    },
    {
      "cell_type": "code",
      "execution_count": 28,
      "metadata": {
        "colab": {
          "base_uri": "https://localhost:8080/"
        },
        "id": "iCO3Z6a-l8yM",
        "outputId": "9634856d-9ed6-428a-a14a-b027f8633749"
      },
      "outputs": [
        {
          "output_type": "stream",
          "name": "stdout",
          "text": [
            "Random sentence:\n",
            " in group @ they were in left lateral decubitus position .\n",
            "Sentence after embedding :\n",
            "[-0.02546365  0.06072241 -0.0263826   0.02011101 -0.00612667  0.05610172\n",
            " -0.00847443  0.0046117  -0.09279092  0.0559184  -0.03396956  0.03375643\n",
            "  0.01706357 -0.0014852   0.05297465  0.03439082  0.02828443 -0.03714703\n",
            " -0.00929242  0.00421594]\n",
            "\n",
            "Length of sentence embedding: 512\n"
          ]
        }
      ],
      "source": [
        "import random\n",
        "random_train_sen = random.choice(train_sen)\n",
        "print(f\"Random sentence:\\n {random_train_sen}\")\n",
        "use_embedded_sen = tf_hub_embedding_layer([random_train_sen])\n",
        "print(f\"Sentence after embedding :\\n{use_embedded_sen[0][:20]}\\n\")\n",
        "print(f\"Length of sentence embedding: {len(use_embedded_sen[0])}\")"
      ]
    },
    {
      "cell_type": "markdown",
      "metadata": {
        "id": "_iCFxU56l-xv"
      },
      "source": [
        "### Creating Character Vectorization Layer"
      ]
    },
    {
      "cell_type": "code",
      "execution_count": 29,
      "metadata": {
        "id": "JfNoPxGemG9u"
      },
      "outputs": [],
      "source": [
        "def split_to_chars(text):\n",
        "    return \" \".join(list(text))"
      ]
    },
    {
      "cell_type": "code",
      "execution_count": 30,
      "metadata": {
        "colab": {
          "base_uri": "https://localhost:8080/"
        },
        "id": "CnmKB4Q-mJho",
        "outputId": "b2f93361-eb3a-472d-e79b-5602b348833e"
      },
      "outputs": [
        {
          "output_type": "execute_result",
          "data": {
            "text/plain": [
              "['m a n y   p a t h o g e n i c   p r o c e s s e s   a n d   d i s e a s e s   a r e   t h e   r e s u l t   o f   a n   e r r o n e o u s   a c t i v a t i o n   o f   t h e   c o m p l e m e n t   c a s c a d e   a n d   a   n u m b e r   o f   i n h i b i t o r s   o f   c o m p l e m e n t   h a v e   t h u s   b e e n   e x a m i n e d   f o r   a n t i - i n f l a m m a t o r y   a c t i o n s   .',\n",
              " 'i t   w a s   r e c e n t l y   d e m o n s t r a t e d   t h a t   s u p r a p h y s i o l o g i c a l   c o n c e n t r a t i o n s   o f   t h e   e n d o g e n o u s   c o m p l e m e n t   i n h i b i t o r   m a p @   (   a l s o   d e n o t e d   m a p @   )   p r o t e c t   a g a i n s t   m y o c a r d i a l   r e p e r f u s i o n   i n j u r y   .',\n",
              " 'i n   t h e   p r e s e n t   s t u d y   ,   w e   e x a m i n e d   t h e   a s s o c i a t i o n   b e t w e e n   o u t c o m e   a f t e r   a c u t e   m y o c a r d i a l   i n f a r c t i o n   (   m i   )   a n d   t h e   p l a s m a   l e v e l s   o f   m a p @   a n d   i t s   r e l a t e d   p r o t e i n s   m a s p - @   a n d   m a s p - @   i n   p a t i e n t s   w i t h   f i r s t - t i m e   m i   .',\n",
              " 'i n   a d d i t i o n   ,   w e   c o m p a r e d   p l a s m a   l e v e l s   o f   m a p @   ,   m a s p - @   ,   a n d   m a s p - @   i n   m i   p a t i e n t s   t o   l e v e l s   i n   a   h e a l t h y   c o n t r o l   g r o u p   .',\n",
              " 'a   t o t a l   o f   @   m i   p a t i e n t s   a n d   @   c o n t r o l   p e r s o n s   w e r e   i n c l u d e d   .']"
            ]
          },
          "metadata": {},
          "execution_count": 30
        }
      ],
      "source": [
        "train_chars = [split_to_chars(sentence) for sentence in train_sen]\n",
        "val_chars = [split_to_chars(sentence) for sentence in val_sen]\n",
        "test_chars = [split_to_chars(sentence) for sentence in test_sen]\n",
        "\n",
        "test_chars[:5]"
      ]
    },
    {
      "cell_type": "code",
      "execution_count": 33,
      "metadata": {
        "colab": {
          "base_uri": "https://localhost:8080/"
        },
        "id": "GrJem205mLM3",
        "outputId": "ca2ffae4-b400-4200-c254-18e3cf2c728e"
      },
      "outputs": [
        {
          "output_type": "execute_result",
          "data": {
            "text/plain": [
              "147.82646377869133"
            ]
          },
          "metadata": {},
          "execution_count": 33
        }
      ],
      "source": [
        "# Avg character length\n",
        "import numpy as np\n",
        "\n",
        "char_lens = [len(sentence) for sentence in train_sen]\n",
        "mean_char_len = np.mean(char_lens)\n",
        "mean_char_len"
      ]
    },
    {
      "cell_type": "code",
      "execution_count": 35,
      "metadata": {
        "colab": {
          "base_uri": "https://localhost:8080/",
          "height": 366
        },
        "id": "AP9bpCGQmMra",
        "outputId": "d3278e72-ae0b-4cb6-8ca8-9bf29f0402b2"
      },
      "outputs": [
        {
          "output_type": "execute_result",
          "data": {
            "text/plain": [
              "(array([2.030236e+06, 1.779350e+05, 3.470000e+03, 1.980000e+02,\n",
              "        2.000000e+01, 1.000000e+00, 1.000000e+00]),\n",
              " array([1.00000000e+00, 2.54428571e+02, 5.07857143e+02, 7.61285714e+02,\n",
              "        1.01471429e+03, 1.26814286e+03, 1.52157143e+03, 1.77500000e+03]),\n",
              " <a list of 7 Patch objects>)"
            ]
          },
          "metadata": {},
          "execution_count": 35
        },
        {
          "output_type": "display_data",
          "data": {
            "image/png": "[encoded data removed]",
            "text/plain": [
              "<Figure size 432x288 with 1 Axes>"
            ]
          },
          "metadata": {
            "needs_background": "light"
          }
        }
      ],
      "source": [
        "# Check distribution\n",
        "\n",
        "import matplotlib.pyplot as plt\n",
        "plt.hist(char_lens,bins = 7)"
      ]
    },
    {
      "cell_type": "code",
      "execution_count": 36,
      "metadata": {
        "colab": {
          "base_uri": "https://localhost:8080/"
        },
        "id": "sieqbWKlmN_K",
        "outputId": "4af99c7f-7068-445b-e0aa-5eb63c5afd5f"
      },
      "outputs": [
        {
          "output_type": "execute_result",
          "data": {
            "text/plain": [
              "284"
            ]
          },
          "metadata": {},
          "execution_count": 36
        }
      ],
      "source": [
        "# What character length covers 95% of the lengths?\n",
        "output_seq_char_len = int(np.percentile(char_lens,95))\n",
        "output_seq_char_len"
      ]
    },
    {
      "cell_type": "code",
      "execution_count": 37,
      "metadata": {
        "colab": {
          "base_uri": "https://localhost:8080/",
          "height": 35
        },
        "id": "CSagTyB4mPZZ",
        "outputId": "8a066ee7-0e21-4ca2-c201-5b12783e1b69"
      },
      "outputs": [
        {
          "output_type": "execute_result",
          "data": {
            "application/vnd.google.colaboratory.intrinsic+json": {
              "type": "string"
            },
            "text/plain": [
              "'abcdefghijklmnopqrstuvwxyz0123456789!\"#$%&\\'()*+,-./:;<=>?@[\\\\]^_`{|}~'"
            ]
          },
          "metadata": {},
          "execution_count": 37
        }
      ],
      "source": [
        "# Get all keyboard characters\n",
        "import string\n",
        "alphabet=  string.ascii_lowercase + string.digits+ string.punctuation\n",
        "alphabet"
      ]
    },
    {
      "cell_type": "code",
      "execution_count": 41,
      "metadata": {
        "id": "VkbsH0GOmQyY"
      },
      "outputs": [],
      "source": [
        "# Char level token vectorizer\n",
        "from tensorflow.keras.layers.experimental.preprocessing import TextVectorization\n",
        "\n",
        "num_char_tokens = len(alphabet) + 2 # for space and UNK(Unkown)\n",
        "char_vectorizer = TextVectorization(\n",
        "    max_tokens = num_char_tokens,\n",
        "    output_sequence_length = output_seq_char_len,\n",
        "    name = \"char_vectorizer\"\n",
        ")"
      ]
    },
    {
      "cell_type": "code",
      "execution_count": 39,
      "metadata": {
        "colab": {
          "base_uri": "https://localhost:8080/"
        },
        "id": "9PvdGB_u8F1J",
        "outputId": "333a1ab7-3a65-4b2f-e8f3-29a6acf2bc54"
      },
      "outputs": [
        {
          "output_type": "execute_result",
          "data": {
            "text/plain": [
              "<PrefetchDataset shapes: (None,), types: tf.string>"
            ]
          },
          "metadata": {},
          "execution_count": 39
        }
      ],
      "source": [
        "train_char_dataset = tf.data.Dataset.from_tensor_slices(train_chars)\n",
        "train_char_dataset = train_char_dataset.batch(32).prefetch(tf.data.AUTOTUNE)\n",
        "train_char_dataset"
      ]
    },
    {
      "cell_type": "code",
      "execution_count": 42,
      "metadata": {
        "id": "qdXO7IBYmY9f"
      },
      "outputs": [],
      "source": [
        "char_vectorizer.adapt(train_char_dataset)"
      ]
    },
    {
      "cell_type": "code",
      "execution_count": 43,
      "metadata": {
        "colab": {
          "base_uri": "https://localhost:8080/"
        },
        "id": "tt1CsBZ1ma5h",
        "outputId": "b08f16cf-a0e7-40d4-8f80-f8d2fccaa015"
      },
      "outputs": [
        {
          "output_type": "stream",
          "name": "stdout",
          "text": [
            "Number of different characters in character vocab : 28\n",
            "5 most common characters : ['', '[UNK]', 'e', 't', 'a']\n",
            "5 least common characters : ['k', 'x', 'z', 'q', 'j']\n"
          ]
        }
      ],
      "source": [
        "char_vocab = char_vectorizer.get_vocabulary()\n",
        "print(f\"Number of different characters in character vocab : {len(char_vocab)}\")\n",
        "print(f\"5 most common characters : {char_vocab[:5]}\")\n",
        "print(f\"5 least common characters : {char_vocab[-5:]}\")"
      ]
    },
    {
      "cell_type": "code",
      "execution_count": 44,
      "metadata": {
        "colab": {
          "base_uri": "https://localhost:8080/"
        },
        "id": "MsneUUGhmdx4",
        "outputId": "e094b498-2578-410a-e4b1-2fb2ca8fe235"
      },
      "outputs": [
        {
          "output_type": "stream",
          "name": "stdout",
          "text": [
            "Charified text : \n",
            "u n l i k e   p r e v i o u s   w o r k   ,   w e   f o u n d   n o   e v i d e n c e   o f   m e m o r y   i m p a i r m e n t   f o r   m a t e r i a l   p r e s e n t e d   b e f o r e   o r   a f t e r   i n d i v i d u a l l y   t a i l o r e d   ,   `   b r e a k t h r o u g h   '   d o s e s   o f   i m m e d i a t e - r e l e a s e   o p i o i d   .\n",
            "\n",
            "Length of random_train_chars : 153\n",
            "\n",
            "Vectorized chars : \n",
            "[[16  6 11  5 23  2 14  8  2 21  5  7 16  9 20  7  8 23 20  2 17  7 16  6\n",
            "  10  6  7  2 21  5 10  2  6 12  2  7 17 15  2 15  7  8 19  5 15 14  4  5\n",
            "   8 15  2  6  3 17  7  8 15  4  3  2  8  5  4 11 14  8  2  9  2  6  3  2\n",
            "  10 22  2 17  7  8  2  7  8  4 17  3  2  8  5  6 10  5 21  5 10 16  4 11\n",
            "  11 19  3  4  5 11  7  8  2 10 22  8  2  4 23  3 13  8  7 16 18 13 10  7\n",
            "   9  2  9  7 17  5 15 15  2 10  5  4  3  2  8  2 11  2  4  9  2  7 14  5\n",
            "   7  5 10  0  0  0  0  0  0  0  0  0  0  0  0  0  0  0  0  0  0  0  0  0\n",
            "   0  0  0  0  0  0  0  0  0  0  0  0  0  0  0  0  0  0  0  0  0  0  0  0\n",
            "   0  0  0  0  0  0  0  0  0  0  0  0  0  0  0  0  0  0  0  0  0  0  0  0\n",
            "   0  0  0  0  0  0  0  0  0  0  0  0  0  0  0  0  0  0  0  0  0  0  0  0\n",
            "   0  0  0  0  0  0  0  0  0  0  0  0  0  0  0  0  0  0  0  0  0  0  0  0\n",
            "   0  0  0  0  0  0  0  0  0  0  0  0  0  0  0  0  0  0  0  0]]\n",
            "length of vectorized chars : 284\n"
          ]
        }
      ],
      "source": [
        "random_train_chars = random.choice(train_chars)\n",
        "print(f\"Charified text : \\n{random_train_chars}\")\n",
        "print(f\"\\nLength of random_train_chars : {len(random_train_chars.split())}\")\n",
        "vectorized_chars = char_vectorizer([random_train_chars])\n",
        "print(f\"\\nVectorized chars : \\n{vectorized_chars}\")\n",
        "print(f\"length of vectorized chars : {len(vectorized_chars[0])}\")"
      ]
    },
    {
      "cell_type": "markdown",
      "metadata": {
        "id": "cElyLFObmguv"
      },
      "source": [
        "### Create Custom Character Embedding Layer"
      ]
    },
    {
      "cell_type": "code",
      "execution_count": 45,
      "metadata": {
        "id": "e-BX0G46mted"
      },
      "outputs": [],
      "source": [
        "char_embed = layers.Embedding(\n",
        "    input_dim=len(char_vocab),\n",
        "    output_dim = 25, # From paper\n",
        "    mask_zero = False,\n",
        "    name = \"char_embed\"\n",
        ")"
      ]
    },
    {
      "cell_type": "code",
      "execution_count": 46,
      "metadata": {
        "colab": {
          "base_uri": "https://localhost:8080/"
        },
        "id": "G82KWvfun27Z",
        "outputId": "4999615a-0320-4012-92b7-3f4ab5661ec2"
      },
      "outputs": [
        {
          "output_type": "stream",
          "name": "stdout",
          "text": [
            "Charified text : \n",
            "u n l i k e   p r e v i o u s   w o r k   ,   w e   f o u n d   n o   e v i d e n c e   o f   m e m o r y   i m p a i r m e n t   f o r   m a t e r i a l   p r e s e n t e d   b e f o r e   o r   a f t e r   i n d i v i d u a l l y   t a i l o r e d   ,   `   b r e a k t h r o u g h   '   d o s e s   o f   i m m e d i a t e - r e l e a s e   o p i o i d   .\n",
            "\n",
            "Embedded chars (after vectorization and embediing) : \n",
            "[[[ 0.00154991 -0.02039826 -0.0273296  ... -0.03715732  0.00453473\n",
            "   -0.00787549]\n",
            "  [ 0.04550732  0.02323735  0.04863305 ... -0.03782171  0.03967703\n",
            "    0.04183051]\n",
            "  [ 0.04049592 -0.04122614  0.0309688  ... -0.04619223  0.03122339\n",
            "   -0.00283917]\n",
            "  ...\n",
            "  [-0.04640565 -0.03087953  0.00175562 ... -0.04510758  0.00865268\n",
            "    0.01952796]\n",
            "  [-0.04640565 -0.03087953  0.00175562 ... -0.04510758  0.00865268\n",
            "    0.01952796]\n",
            "  [-0.04640565 -0.03087953  0.00175562 ... -0.04510758  0.00865268\n",
            "    0.01952796]]]\n",
            "\n",
            "Character Embediing shape : (1, 284, 25)\n"
          ]
        }
      ],
      "source": [
        "print(f\"Charified text : \\n{random_train_chars}\\n\")\n",
        "char_embed_example = char_embed(char_vectorizer([random_train_chars]))\n",
        "print(f\"Embedded chars (after vectorization and embediing) : \\n{char_embed_example}\\n\")\n",
        "print(f\"Character Embediing shape : {char_embed_example.shape}\")"
      ]
    },
    {
      "cell_type": "markdown",
      "metadata": {
        "id": "ni-HPb9ioQVM"
      },
      "source": [
        "### Create Positional Embeddings"
      ]
    },
    {
      "cell_type": "code",
      "execution_count": 47,
      "metadata": {
        "colab": {
          "base_uri": "https://localhost:8080/"
        },
        "id": "HkdmSoq0oa7W",
        "outputId": "85b67dcf-d062-44a5-c616-9f04c3eff327"
      },
      "outputs": [
        {
          "output_type": "execute_result",
          "data": {
            "text/plain": [
              "0     190654\n",
              "1     190654\n",
              "2     190654\n",
              "3     190644\n",
              "4     190357\n",
              "5     189080\n",
              "6     185551\n",
              "7     177967\n",
              "8     164187\n",
              "9     143835\n",
              "10    117871\n",
              "11     90168\n",
              "12     64864\n",
              "13     44350\n",
              "14     29186\n",
              "15     18785\n",
              "16     11803\n",
              "17      7392\n",
              "18      4688\n",
              "19      3030\n",
              "20      1925\n",
              "21      1268\n",
              "22       814\n",
              "23       564\n",
              "24       398\n",
              "25       288\n",
              "26       214\n",
              "27       159\n",
              "28       118\n",
              "29        88\n",
              "30        64\n",
              "31        55\n",
              "32        42\n",
              "33        34\n",
              "34        21\n",
              "35        17\n",
              "36        12\n",
              "37         9\n",
              "38         6\n",
              "39         6\n",
              "40         6\n",
              "41         5\n",
              "42         5\n",
              "43         5\n",
              "44         4\n",
              "45         4\n",
              "46         3\n",
              "48         2\n",
              "49         2\n",
              "47         2\n",
              "50         1\n",
              "Name: line_number, dtype: int64"
            ]
          },
          "metadata": {},
          "execution_count": 47
        }
      ],
      "source": [
        "# How many different line numbers are there?\n",
        "train_df[\"line_number\"].value_counts()"
      ]
    },
    {
      "cell_type": "code",
      "execution_count": 48,
      "metadata": {
        "colab": {
          "base_uri": "https://localhost:8080/",
          "height": 294
        },
        "id": "OW8y9Qrcoddu",
        "outputId": "754e6c31-0c9c-4a9e-b929-6e87d9baea3c"
      },
      "outputs": [
        {
          "output_type": "execute_result",
          "data": {
            "text/plain": [
              "<matplotlib.axes._subplots.AxesSubplot at 0x7f2834a731d0>"
            ]
          },
          "metadata": {},
          "execution_count": 48
        },
        {
          "output_type": "display_data",
          "data": {
            "image/png": "[encoded data removed]",
            "text/plain": [
              "<Figure size 432x288 with 1 Axes>"
            ]
          },
          "metadata": {
            "needs_background": "light"
          }
        }
      ],
      "source": [
        "# Check the distribution of column\n",
        "train_df.line_number.plot.hist()"
      ]
    },
    {
      "cell_type": "code",
      "execution_count": 49,
      "metadata": {
        "colab": {
          "base_uri": "https://localhost:8080/"
        },
        "id": "QuLWjnBmoewn",
        "outputId": "72333f62-96ef-427d-8e1a-41d576ab9d7d"
      },
      "outputs": [
        {
          "output_type": "execute_result",
          "data": {
            "text/plain": [
              "(<tf.Tensor: shape=(10, 15), dtype=float32, numpy=\n",
              " array([[1., 0., 0., 0., 0., 0., 0., 0., 0., 0., 0., 0., 0., 0., 0.],\n",
              "        [0., 1., 0., 0., 0., 0., 0., 0., 0., 0., 0., 0., 0., 0., 0.],\n",
              "        [0., 0., 1., 0., 0., 0., 0., 0., 0., 0., 0., 0., 0., 0., 0.],\n",
              "        [0., 0., 0., 1., 0., 0., 0., 0., 0., 0., 0., 0., 0., 0., 0.],\n",
              "        [0., 0., 0., 0., 1., 0., 0., 0., 0., 0., 0., 0., 0., 0., 0.],\n",
              "        [0., 0., 0., 0., 0., 1., 0., 0., 0., 0., 0., 0., 0., 0., 0.],\n",
              "        [0., 0., 0., 0., 0., 0., 1., 0., 0., 0., 0., 0., 0., 0., 0.],\n",
              "        [0., 0., 0., 0., 0., 0., 0., 1., 0., 0., 0., 0., 0., 0., 0.],\n",
              "        [0., 0., 0., 0., 0., 0., 0., 0., 1., 0., 0., 0., 0., 0., 0.],\n",
              "        [0., 0., 0., 0., 0., 0., 0., 0., 0., 1., 0., 0., 0., 0., 0.]],\n",
              "       dtype=float32)>, TensorShape([2211861, 15]))"
            ]
          },
          "metadata": {},
          "execution_count": 49
        }
      ],
      "source": [
        "train_line_no_oh = tf.one_hot(train_df[\"line_number\"].to_numpy(),depth= 15)\n",
        "val_line_no_oh = tf.one_hot(val_df[\"line_number\"].to_numpy(),depth= 15)\n",
        "test_line_no_oh = tf.one_hot(test_df[\"line_number\"].to_numpy(),depth= 15)\n",
        "train_line_no_oh[:10],train_line_no_oh.shape"
      ]
    },
    {
      "cell_type": "code",
      "execution_count": 50,
      "metadata": {
        "colab": {
          "base_uri": "https://localhost:8080/"
        },
        "id": "hyAZMqbUohLa",
        "outputId": "6d8677e9-73f7-4803-d992-275bb1b2e097"
      },
      "outputs": [
        {
          "output_type": "execute_result",
          "data": {
            "text/plain": [
              "10    304733\n",
              "11    303648\n",
              "12    266682\n",
              "9     259640\n",
              "13    212296\n",
              "8     183168\n",
              "14    156015\n",
              "15    111712\n",
              "7     110240\n",
              "16     74987\n",
              "6      53088\n",
              "17     48672\n",
              "18     31502\n",
              "19     22100\n",
              "5      21174\n",
              "20     13797\n",
              "21      9988\n",
              "4       6385\n",
              "22      5750\n",
              "23      3984\n",
              "24      2750\n",
              "25      1924\n",
              "26      1485\n",
              "27      1148\n",
              "3       1148\n",
              "28       870\n",
              "29       720\n",
              "33       442\n",
              "31       416\n",
              "30       279\n",
              "32       264\n",
              "35       180\n",
              "34       140\n",
              "37       114\n",
              "36       111\n",
              "50        51\n",
              "49        50\n",
              "46        47\n",
              "45        46\n",
              "43        44\n",
              "40        41\n",
              "2         30\n",
              "Name: total_lines, dtype: int64"
            ]
          },
          "metadata": {},
          "execution_count": 50
        }
      ],
      "source": [
        "# How many different total line values are there?\n",
        "train_df[\"total_lines\"].value_counts()"
      ]
    },
    {
      "cell_type": "code",
      "execution_count": 51,
      "metadata": {
        "colab": {
          "base_uri": "https://localhost:8080/",
          "height": 294
        },
        "id": "KnZlgaGnoikf",
        "outputId": "3ff47906-cfa9-4ef6-8f5e-b27fdb50d969"
      },
      "outputs": [
        {
          "output_type": "execute_result",
          "data": {
            "text/plain": [
              "<matplotlib.axes._subplots.AxesSubplot at 0x7f2834e37050>"
            ]
          },
          "metadata": {},
          "execution_count": 51
        },
        {
          "output_type": "display_data",
          "data": {
            "image/png": "[encoded data removed]",
            "text/plain": [
              "<Figure size 432x288 with 1 Axes>"
            ]
          },
          "metadata": {
            "needs_background": "light"
          }
        }
      ],
      "source": [
        "# Check the distribution\n",
        "train_df.total_lines.plot.hist()"
      ]
    },
    {
      "cell_type": "code",
      "execution_count": 52,
      "metadata": {
        "colab": {
          "base_uri": "https://localhost:8080/"
        },
        "id": "0pm1dtgjojy6",
        "outputId": "c0a5f592-ab71-4dda-85ab-b3f9fdccfa90"
      },
      "outputs": [
        {
          "output_type": "execute_result",
          "data": {
            "text/plain": [
              "(17.0, 20.0)"
            ]
          },
          "metadata": {},
          "execution_count": 52
        }
      ],
      "source": [
        "np.percentile(train_df.total_lines,95), np.percentile(train_df.total_lines,98)"
      ]
    },
    {
      "cell_type": "code",
      "execution_count": 53,
      "metadata": {
        "colab": {
          "base_uri": "https://localhost:8080/"
        },
        "id": "CIfjzjzXolBw",
        "outputId": "7264bc96-d417-4f60-bbc5-d71c206320ad"
      },
      "outputs": [
        {
          "output_type": "execute_result",
          "data": {
            "text/plain": [
              "(<tf.Tensor: shape=(10, 20), dtype=float32, numpy=\n",
              " array([[0., 0., 0., 0., 0., 0., 0., 0., 0., 0., 1., 0., 0., 0., 0., 0.,\n",
              "         0., 0., 0., 0.],\n",
              "        [0., 0., 0., 0., 0., 0., 0., 0., 0., 0., 1., 0., 0., 0., 0., 0.,\n",
              "         0., 0., 0., 0.],\n",
              "        [0., 0., 0., 0., 0., 0., 0., 0., 0., 0., 1., 0., 0., 0., 0., 0.,\n",
              "         0., 0., 0., 0.],\n",
              "        [0., 0., 0., 0., 0., 0., 0., 0., 0., 0., 1., 0., 0., 0., 0., 0.,\n",
              "         0., 0., 0., 0.],\n",
              "        [0., 0., 0., 0., 0., 0., 0., 0., 0., 0., 1., 0., 0., 0., 0., 0.,\n",
              "         0., 0., 0., 0.],\n",
              "        [0., 0., 0., 0., 0., 0., 0., 0., 0., 0., 1., 0., 0., 0., 0., 0.,\n",
              "         0., 0., 0., 0.],\n",
              "        [0., 0., 0., 0., 0., 0., 0., 0., 0., 0., 1., 0., 0., 0., 0., 0.,\n",
              "         0., 0., 0., 0.],\n",
              "        [0., 0., 0., 0., 0., 0., 0., 0., 0., 0., 1., 0., 0., 0., 0., 0.,\n",
              "         0., 0., 0., 0.],\n",
              "        [0., 0., 0., 0., 0., 0., 0., 0., 0., 0., 1., 0., 0., 0., 0., 0.,\n",
              "         0., 0., 0., 0.],\n",
              "        [0., 0., 0., 0., 0., 0., 0., 0., 0., 0., 1., 0., 0., 0., 0., 0.,\n",
              "         0., 0., 0., 0.]], dtype=float32)>, TensorShape([2211861, 20]))"
            ]
          },
          "metadata": {},
          "execution_count": 53
        }
      ],
      "source": [
        "train_total_lines_no_oh = tf.one_hot(train_df[\"total_lines\"].to_numpy(),depth=20)\n",
        "val_total_lines_no_oh = tf.one_hot(val_df[\"total_lines\"].to_numpy(),depth=20)\n",
        "test_total_lines_no_oh = tf.one_hot(test_df[\"total_lines\"].to_numpy(),depth= 20)\n",
        "train_total_lines_no_oh[:10],train_total_lines_no_oh.shape"
      ]
    },
    {
      "cell_type": "markdown",
      "metadata": {
        "id": "fzXj5OxJoqL3"
      },
      "source": [
        "### Creating datasets for model 2"
      ]
    },
    {
      "cell_type": "code",
      "execution_count": 54,
      "metadata": {
        "colab": {
          "base_uri": "https://localhost:8080/"
        },
        "id": "ahRqe5LZomEV",
        "outputId": "38da908f-476e-42ca-cee4-a97ff5bfa293"
      },
      "outputs": [
        {
          "output_type": "execute_result",
          "data": {
            "text/plain": [
              "<PrefetchDataset shapes: (((None, 15), (None, 20), (None,), (None,)), (None, 5)), types: ((tf.float32, tf.float32, tf.string, tf.string), tf.float64)>"
            ]
          },
          "metadata": {},
          "execution_count": 54
        }
      ],
      "source": [
        "final_train_data = tf.data.Dataset.from_tensor_slices((train_line_no_oh,train_total_lines_no_oh,train_sen,train_chars))\n",
        "final_train_labels = tf.data.Dataset.from_tensor_slices(train_labels_oh)\n",
        "final_train_dataset = tf.data.Dataset.zip((final_train_data,final_train_labels))\n",
        "\n",
        "final_train_dataset = final_train_dataset.batch(32).prefetch(tf.data.AUTOTUNE)\n",
        "final_train_dataset"
      ]
    },
    {
      "cell_type": "code",
      "execution_count": 55,
      "metadata": {
        "colab": {
          "base_uri": "https://localhost:8080/"
        },
        "id": "_EUUhbtdooIa",
        "outputId": "9f226edd-654e-40a0-f409-8465ea2bcf16"
      },
      "outputs": [
        {
          "output_type": "execute_result",
          "data": {
            "text/plain": [
              "<PrefetchDataset shapes: (((None, 15), (None, 20), (None,), (None,)), (None, 5)), types: ((tf.float32, tf.float32, tf.string, tf.string), tf.float64)>"
            ]
          },
          "metadata": {},
          "execution_count": 55
        }
      ],
      "source": [
        "final_val_data = tf.data.Dataset.from_tensor_slices((val_line_no_oh,val_total_lines_no_oh,val_sen,val_chars))\n",
        "final_val_labels = tf.data.Dataset.from_tensor_slices(val_labels_oh)\n",
        "final_val_dataset = tf.data.Dataset.zip((final_val_data,final_val_labels))\n",
        "\n",
        "final_val_dataset = final_val_dataset.batch(32).prefetch(tf.data.AUTOTUNE)\n",
        "final_val_dataset"
      ]
    },
    {
      "cell_type": "code",
      "execution_count": 56,
      "metadata": {
        "colab": {
          "base_uri": "https://localhost:8080/"
        },
        "id": "sspIccOPpD_f",
        "outputId": "5fe421d2-b287-4c58-9238-e85f9752353a"
      },
      "outputs": [
        {
          "output_type": "execute_result",
          "data": {
            "text/plain": [
              "<PrefetchDataset shapes: (((None, 15), (None, 20), (None,), (None,)), (None, 5)), types: ((tf.float32, tf.float32, tf.string, tf.string), tf.float64)>"
            ]
          },
          "metadata": {},
          "execution_count": 56
        }
      ],
      "source": [
        "final_test_data = tf.data.Dataset.from_tensor_slices((test_line_no_oh,test_total_lines_no_oh,test_sen,test_chars))\n",
        "final_test_labels = tf.data.Dataset.from_tensor_slices(test_labels_oh)\n",
        "final_test_dataset = tf.data.Dataset.zip((final_test_data,final_test_labels))\n",
        "\n",
        "final_test_dataset = final_test_dataset.batch(32).prefetch(tf.data.AUTOTUNE)\n",
        "final_test_dataset"
      ]
    },
    {
      "cell_type": "markdown",
      "metadata": {
        "id": "0SEP7-X1pa-m"
      },
      "source": [
        "### Model 2 : Transfer learning with pretrained token embediings + character embeddings + positional embediings"
      ]
    },
    {
      "cell_type": "code",
      "execution_count": 57,
      "metadata": {
        "id": "A9qRffeVpe7F"
      },
      "outputs": [],
      "source": [
        "# 1. Token inputs\n",
        "token_inputs = layers.Input(shape=[],dtype = tf.string,name = \"token_inputs\")\n",
        "token_embeddings = tf_hub_embedding_layer(token_inputs)\n",
        "token_output = layers.Dense(256,activation =\"relu\")(token_embeddings)\n",
        "token_model = tf.keras.Model(inputs = token_inputs,\n",
        "                             outputs = token_output)"
      ]
    },
    {
      "cell_type": "code",
      "execution_count": 58,
      "metadata": {
        "id": "SWPNXoF9pg7S"
      },
      "outputs": [],
      "source": [
        "# 2. Char inputs\n",
        "char_inputs = layers.Input(shape=(1,),dtype = tf.string,name= \"char_inputs\")\n",
        "char_vectors = char_vectorizer(char_inputs)\n",
        "char_embeddings = char_embed(char_vectors)\n",
        "char_bi_lstm = layers.Bidirectional(layers.LSTM(24))(char_embeddings)\n",
        "char_model = tf.keras.Model(inputs = char_inputs,\n",
        "                            outputs = char_bi_lstm)"
      ]
    },
    {
      "cell_type": "code",
      "execution_count": 59,
      "metadata": {
        "id": "rbWLi_xWpibA"
      },
      "outputs": [],
      "source": [
        "# 3. Line Number Model\n",
        "line_no_inputs = layers.Input(shape=(15,),dtype = tf.float32,name=\"line_no_inputs\")\n",
        "x = layers.Dense(32,activation=\"relu\")(line_no_inputs)\n",
        "line_no_model = tf.keras.Model(inputs = line_no_inputs,\n",
        "                               outputs = x)"
      ]
    },
    {
      "cell_type": "code",
      "execution_count": 60,
      "metadata": {
        "id": "Y4lPQMOqpj6v"
      },
      "outputs": [],
      "source": [
        "# 4. Total Line Number Model\n",
        "total_lines_inputs = layers.Input(shape=(20,),dtype=tf.float32,name=\"total_lines_inputs\")\n",
        "y = layers.Dense(32,activation=\"relu\")(total_lines_inputs)\n",
        "\n",
        "total_lines_model = tf.keras.Model(inputs = total_lines_inputs,\n",
        "                                      outputs = y)"
      ]
    },
    {
      "cell_type": "code",
      "execution_count": 61,
      "metadata": {
        "id": "yaIDa6KTplaR"
      },
      "outputs": [],
      "source": [
        "# 5. Combine 1 and 2 into a hybrid embedding\n",
        "combined_embeddings = layers.Concatenate(name=\"char_token_hybrid_embedding\")([token_model.output,\n",
        "                                                                              char_model.output])"
      ]
    },
    {
      "cell_type": "code",
      "execution_count": 62,
      "metadata": {
        "id": "p8Za-QZmpnDS"
      },
      "outputs": [],
      "source": [
        "# 6. \n",
        "z = layers.Dense(256,activation=\"relu\")(combined_embeddings)\n",
        "z = layers.Dropout(0.5)(z)"
      ]
    },
    {
      "cell_type": "code",
      "execution_count": 63,
      "metadata": {
        "id": "v9u5RuFCpoIh"
      },
      "outputs": [],
      "source": [
        "# 7. Combine positional embediing with 5\n",
        "tribrid_embeddings = layers.Concatenate(name=\"char_token_positional_embedding\")([line_no_model.output,\n",
        "                                                                                 total_lines_model.output,\n",
        "                                                                                 z])"
      ]
    },
    {
      "cell_type": "code",
      "execution_count": 64,
      "metadata": {
        "id": "bAmhJ39ppphh"
      },
      "outputs": [],
      "source": [
        "# 8. Create output layer\n",
        "output_layer = layers.Dense(num_classes,activation=\"softmax\",name = \"output_layer\")(tribrid_embeddings)"
      ]
    },
    {
      "cell_type": "code",
      "execution_count": 65,
      "metadata": {
        "id": "uxafVxNXpq72"
      },
      "outputs": [],
      "source": [
        "# 9. Put together model with all kinds of inputs\n",
        "model_2 = tf.keras.Model(\n",
        "    inputs=[\n",
        "            line_no_model.input,\n",
        "            total_lines_model.input,\n",
        "            token_model.input,\n",
        "            char_model.input\n",
        "    ],\n",
        "    outputs=output_layer,\n",
        "    name = \"tribrid_embedding_model\"\n",
        ")"
      ]
    },
    {
      "cell_type": "code",
      "execution_count": 66,
      "metadata": {
        "colab": {
          "base_uri": "https://localhost:8080/"
        },
        "id": "fl1Sh2bEps0P",
        "outputId": "532ebc70-bbba-4159-cf40-99a556c233a9"
      },
      "outputs": [
        {
          "output_type": "stream",
          "name": "stdout",
          "text": [
            "Model: \"tribrid_embedding_model\"\n",
            "__________________________________________________________________________________________________\n",
            " Layer (type)                   Output Shape         Param #     Connected to                     \n",
            "==================================================================================================\n",
            " char_inputs (InputLayer)       [(None, 1)]          0           []                               \n",
            "                                                                                                  \n",
            " token_inputs (InputLayer)      [(None,)]            0           []                               \n",
            "                                                                                                  \n",
            " char_vectorizer (TextVectoriza  (None, 284)         0           ['char_inputs[0][0]']            \n",
            " tion)                                                                                            \n",
            "                                                                                                  \n",
            " USE (KerasLayer)               (None, 512)          256797824   ['token_inputs[0][0]']           \n",
            "                                                                                                  \n",
            " char_embed (Embedding)         (None, 284, 25)      700         ['char_vectorizer[0][0]']        \n",
            "                                                                                                  \n",
            " dense (Dense)                  (None, 256)          131328      ['USE[0][0]']                    \n",
            "                                                                                                  \n",
            " bidirectional (Bidirectional)  (None, 48)           9600        ['char_embed[0][0]']             \n",
            "                                                                                                  \n",
            " char_token_hybrid_embedding (C  (None, 304)         0           ['dense[0][0]',                  \n",
            " oncatenate)                                                      'bidirectional[0][0]']          \n",
            "                                                                                                  \n",
            " line_no_inputs (InputLayer)    [(None, 15)]         0           []                               \n",
            "                                                                                                  \n",
            " total_lines_inputs (InputLayer  [(None, 20)]        0           []                               \n",
            " )                                                                                                \n",
            "                                                                                                  \n",
            " dense_3 (Dense)                (None, 256)          78080       ['char_token_hybrid_embedding[0][\n",
            "                                                                 0]']                             \n",
            "                                                                                                  \n",
            " dense_1 (Dense)                (None, 32)           512         ['line_no_inputs[0][0]']         \n",
            "                                                                                                  \n",
            " dense_2 (Dense)                (None, 32)           672         ['total_lines_inputs[0][0]']     \n",
            "                                                                                                  \n",
            " dropout (Dropout)              (None, 256)          0           ['dense_3[0][0]']                \n",
            "                                                                                                  \n",
            " char_token_positional_embeddin  (None, 320)         0           ['dense_1[0][0]',                \n",
            " g (Concatenate)                                                  'dense_2[0][0]',                \n",
            "                                                                  'dropout[0][0]']                \n",
            "                                                                                                  \n",
            " output_layer (Dense)           (None, 5)            1605        ['char_token_positional_embedding\n",
            "                                                                 [0][0]']                         \n",
            "                                                                                                  \n",
            "==================================================================================================\n",
            "Total params: 257,020,321\n",
            "Trainable params: 222,497\n",
            "Non-trainable params: 256,797,824\n",
            "__________________________________________________________________________________________________\n"
          ]
        }
      ],
      "source": [
        "model_2.summary()"
      ]
    },
    {
      "cell_type": "code",
      "execution_count": 67,
      "metadata": {
        "colab": {
          "base_uri": "https://localhost:8080/",
          "height": 695
        },
        "id": "TlIzwzJ4pvZf",
        "outputId": "dea8f0f0-99b8-4450-c603-5c632594dab9"
      },
      "outputs": [
        {
          "output_type": "execute_result",
          "data": {
            "image/png": "[encoded data removed]",
            "text/plain": [
              "<IPython.core.display.Image object>"
            ]
          },
          "metadata": {},
          "execution_count": 67
        }
      ],
      "source": [
        "tf.keras.utils.plot_model(model_2,show_shapes = True)"
      ]
    },
    {
      "cell_type": "code",
      "execution_count": 68,
      "metadata": {
        "id": "Cllp3yDspxBF"
      },
      "outputs": [],
      "source": [
        "model_2.compile(loss = tf.keras.losses.CategoricalCrossentropy(label_smoothing=0.2),\n",
        "                optimizer = tf.keras.optimizers.Adam(),\n",
        "                metrics=[\"accuracy\"])"
      ]
    },
    {
      "cell_type": "code",
      "execution_count": 69,
      "metadata": {
        "id": "Qqn8oXnmqkW9"
      },
      "outputs": [],
      "source": [
        "run_dir = \"/content/drive/MyDrive/machine_learning/Checkpoints/Model2/\"\n",
        "checkpoint_path = os.path.join(run_dir,'model-{epoch:02d}-{val_loss:02f}.ckpt')\n",
        "checkpoint_callback = tf.keras.callbacks.ModelCheckpoint(checkpoint_path, save_weights_only=True, monitor=\"val_accuracy\")"
      ]
    },
    {
      "cell_type": "code",
      "source": [
        "model_2.save_weights(checkpoint_path.format(epoch=0,val_loss=0.00))"
      ],
      "metadata": {
        "id": "EJU6HbZEM6BW"
      },
      "execution_count": 70,
      "outputs": []
    },
    {
      "cell_type": "code",
      "source": [
        "len(train_sen)"
      ],
      "metadata": {
        "colab": {
          "base_uri": "https://localhost:8080/"
        },
        "id": "0m2cduxkPrXN",
        "outputId": "833cf1a7-b6d9-4e05-92b8-77adeba42a4b"
      },
      "execution_count": 75,
      "outputs": [
        {
          "output_type": "execute_result",
          "data": {
            "text/plain": [
              "2211861"
            ]
          },
          "metadata": {},
          "execution_count": 75
        }
      ]
    },
    {
      "cell_type": "code",
      "source": [
        "0.2 * len(final_train_dataset) * 4"
      ],
      "metadata": {
        "colab": {
          "base_uri": "https://localhost:8080/"
        },
        "id": "qNzkgI2nPPuQ",
        "outputId": "28472d61-1383-427e-ec5e-ed2836c2c175"
      },
      "execution_count": 78,
      "outputs": [
        {
          "output_type": "execute_result",
          "data": {
            "text/plain": [
              "55296.8"
            ]
          },
          "metadata": {},
          "execution_count": 78
        }
      ]
    },
    {
      "cell_type": "code",
      "execution_count": 77,
      "metadata": {
        "colab": {
          "base_uri": "https://localhost:8080/"
        },
        "id": "pPGfwWWAp27c",
        "outputId": "0b842768-ebd9-45b3-ee20-93ec67e57d53"
      },
      "outputs": [
        {
          "output_type": "stream",
          "name": "stdout",
          "text": [
            "Saving TensorBoard log files to: PubMedAbstracts/model_2_Tribrid/20220119-121324\n",
            "Epoch 1/4\n",
            "13824/13824 [==============================] - 421s 30ms/step - loss: 0.9234 - accuracy: 0.8411 - val_loss: 0.8898 - val_accuracy: 0.8640\n",
            "Epoch 2/4\n",
            "13824/13824 [==============================] - 412s 30ms/step - loss: 0.8988 - accuracy: 0.8581 - val_loss: 0.8781 - val_accuracy: 0.8724\n",
            "Epoch 3/4\n",
            "13824/13824 [==============================] - 416s 30ms/step - loss: 0.8926 - accuracy: 0.8633 - val_loss: 0.8768 - val_accuracy: 0.8707\n",
            "Epoch 4/4\n",
            "13824/13824 [==============================] - 411s 30ms/step - loss: 0.8889 - accuracy: 0.8652 - val_loss: 0.8732 - val_accuracy: 0.8743\n"
          ]
        }
      ],
      "source": [
        "history_model_2 = model_2.fit(\n",
        "    final_train_dataset,\n",
        "    epochs = 4,\n",
        "    steps_per_epoch = int(0.2 * len(final_train_dataset)),\n",
        "    # steps_per_epoch = len(final_train_dataset),\n",
        "    validation_data = final_val_dataset,\n",
        "    validation_steps = int(0.2 * len(final_val_dataset)),\n",
        "    callbacks = [checkpoint_callback,create_tensorboard_callback(\"PubMedAbstracts\",\"model_2_Tribrid\")]\n",
        ")"
      ]
    },
    {
      "cell_type": "code",
      "execution_count": 80,
      "metadata": {
        "colab": {
          "base_uri": "https://localhost:8080/",
          "height": 573
        },
        "id": "_DT8nwUgqCmL",
        "outputId": "792d3fed-5a54-4c61-dfbf-afa3e5a0547d"
      },
      "outputs": [
        {
          "output_type": "display_data",
          "data": {
            "image/png": "[encoded data removed]",
            "text/plain": [
              "<Figure size 432x288 with 1 Axes>"
            ]
          },
          "metadata": {
            "needs_background": "light"
          }
        },
        {
          "output_type": "display_data",
          "data": {
            "image/png": "[encoded data removed]",
            "text/plain": [
              "<Figure size 432x288 with 1 Axes>"
            ]
          },
          "metadata": {
            "needs_background": "light"
          }
        }
      ],
      "source": [
        "plot_loss_curves(history_model_2)   "
      ]
    },
    {
      "cell_type": "code",
      "execution_count": 81,
      "metadata": {
        "colab": {
          "base_uri": "https://localhost:8080/"
        },
        "id": "0Oon4-nfqFSK",
        "outputId": "5ac067e3-6816-4b12-baf8-2c629ba5357a"
      },
      "outputs": [
        {
          "output_type": "stream",
          "name": "stdout",
          "text": [
            "905/905 [==============================] - 18s 20ms/step - loss: 0.8765 - accuracy: 0.8691\n"
          ]
        },
        {
          "output_type": "execute_result",
          "data": {
            "text/plain": [
              "[0.876541256904602, 0.8691414594650269]"
            ]
          },
          "metadata": {},
          "execution_count": 81
        }
      ],
      "source": [
        "model_2.evaluate(final_val_dataset)"
      ]
    },
    {
      "cell_type": "code",
      "execution_count": 82,
      "metadata": {
        "colab": {
          "base_uri": "https://localhost:8080/"
        },
        "id": "l2LTYr-yqI2p",
        "outputId": "af765ee5-254e-4b4d-f8f4-3a98b0c7c429"
      },
      "outputs": [
        {
          "output_type": "stream",
          "name": "stdout",
          "text": [
            "905/905 [==============================] - 18s 19ms/step\n"
          ]
        },
        {
          "output_type": "execute_result",
          "data": {
            "text/plain": [
              "array([[0.513867  , 0.0696909 , 0.03511568, 0.29096985, 0.09035655],\n",
              "       [0.11624672, 0.03377767, 0.65773565, 0.14390707, 0.04833297],\n",
              "       [0.18269679, 0.05339056, 0.21483232, 0.13808084, 0.41099957],\n",
              "       ...,\n",
              "       [0.03872681, 0.2880351 , 0.09225253, 0.0475422 , 0.53344333],\n",
              "       [0.02887801, 0.24601446, 0.07285091, 0.04352657, 0.60873   ],\n",
              "       [0.0492874 , 0.8251336 , 0.02723712, 0.03436274, 0.06397911]],\n",
              "      dtype=float32)"
            ]
          },
          "metadata": {},
          "execution_count": 82
        }
      ],
      "source": [
        "model_2_pred_probs = model_2.predict(final_val_dataset,verbose = 1)\n",
        "model_2_pred_probs"
      ]
    },
    {
      "cell_type": "code",
      "execution_count": 83,
      "metadata": {
        "colab": {
          "base_uri": "https://localhost:8080/"
        },
        "id": "ZRVPP1UwqKJu",
        "outputId": "438fc2e0-7baa-4a08-a846-4b1ee50c4c71"
      },
      "outputs": [
        {
          "output_type": "execute_result",
          "data": {
            "text/plain": [
              "<tf.Tensor: shape=(28932,), dtype=int64, numpy=array([0, 2, 4, ..., 4, 4, 1])>"
            ]
          },
          "metadata": {},
          "execution_count": 83
        }
      ],
      "source": [
        "model_2_preds = tf.argmax(model_2_pred_probs,axis = 1)\n",
        "model_2_preds"
      ]
    },
    {
      "cell_type": "code",
      "execution_count": 84,
      "metadata": {
        "colab": {
          "base_uri": "https://localhost:8080/"
        },
        "id": "o7fuOM23qOby",
        "outputId": "2d81852b-8cc5-49df-a09d-5581d633e81b"
      },
      "outputs": [
        {
          "output_type": "execute_result",
          "data": {
            "text/plain": [
              "{'accuracy': 86.91414350891746,\n",
              " 'f1': 0.8675538469159115,\n",
              " 'precision': 0.8688197128609749,\n",
              " 'recall': 0.8691414350891746}"
            ]
          },
          "metadata": {},
          "execution_count": 84
        }
      ],
      "source": [
        "model_2_results = calculate_results(y_true = val_labels_encoded,\n",
        "                  y_pred = model_2_preds)\n",
        "model_2_results"
      ]
    },
    {
      "cell_type": "markdown",
      "metadata": {
        "id": "4XbsvGT5qRSY"
      },
      "source": [
        "## Compare Model Results"
      ]
    },
    {
      "cell_type": "code",
      "execution_count": 118,
      "metadata": {
        "colab": {
          "base_uri": "https://localhost:8080/",
          "height": 143
        },
        "id": "X7_WbQxjqU95",
        "outputId": "2c9ed8a2-f73f-46bd-9b73-4fbff2389b7b"
      },
      "outputs": [
        {
          "output_type": "execute_result",
          "data": {
            "text/html": [
              "\n",
              "  <div id=\"df-ce02468f-2bce-457e-9814-1c8a92d5318b\">\n",
              "    <div class=\"colab-df-container\">\n",
              "      <div>\n",
              "<style scoped>\n",
              "    .dataframe tbody tr th:only-of-type {\n",
              "        vertical-align: middle;\n",
              "    }\n",
              "\n",
              "    .dataframe tbody tr th {\n",
              "        vertical-align: top;\n",
              "    }\n",
              "\n",
              "    .dataframe thead th {\n",
              "        text-align: right;\n",
              "    }\n",
              "</style>\n",
              "<table border=\"1\" class=\"dataframe\">\n",
              "  <thead>\n",
              "    <tr style=\"text-align: right;\">\n",
              "      <th></th>\n",
              "      <th>accuracy</th>\n",
              "      <th>precision</th>\n",
              "      <th>recall</th>\n",
              "      <th>f1</th>\n",
              "    </tr>\n",
              "  </thead>\n",
              "  <tbody>\n",
              "    <tr>\n",
              "      <th>model_0_baseline</th>\n",
              "      <td>74.975805</td>\n",
              "      <td>0.743197</td>\n",
              "      <td>0.749758</td>\n",
              "      <td>0.738957</td>\n",
              "    </tr>\n",
              "    <tr>\n",
              "      <th>model_1_custom_token_embed_conv1d</th>\n",
              "      <td>84.314945</td>\n",
              "      <td>0.840285</td>\n",
              "      <td>0.843149</td>\n",
              "      <td>0.840380</td>\n",
              "    </tr>\n",
              "    <tr>\n",
              "      <th>model_2_tribrid_pos_char_token_embed</th>\n",
              "      <td>86.914144</td>\n",
              "      <td>0.868820</td>\n",
              "      <td>0.869141</td>\n",
              "      <td>0.867554</td>\n",
              "    </tr>\n",
              "  </tbody>\n",
              "</table>\n",
              "</div>\n",
              "      <button class=\"colab-df-convert\" onclick=\"convertToInteractive('df-ce02468f-2bce-457e-9814-1c8a92d5318b')\"\n",
              "              title=\"Convert this dataframe to an interactive table.\"\n",
              "              style=\"display:none;\">\n",
              "        \n",
              "  <svg xmlns=\"http://www.w3.org/2000/svg\" height=\"24px\"viewBox=\"0 0 24 24\"\n",
              "       width=\"24px\">\n",
              "    <path d=\"M0 0h24v24H0V0z\" fill=\"none\"/>\n",
              "    <path d=\"M18.56 5.44l.94 2.06.94-2.06 2.06-.94-2.06-.94-.94-2.06-.94 2.06-2.06.94zm-11 1L8.5 8.5l.94-2.06 2.06-.94-2.06-.94L8.5 2.5l-.94 2.06-2.06.94zm10 10l.94 2.06.94-2.06 2.06-.94-2.06-.94-.94-2.06-.94 2.06-2.06.94z\"/><path d=\"M17.41 7.96l-1.37-1.37c-.4-.4-.92-.59-1.43-.59-.52 0-1.04.2-1.43.59L10.3 9.45l-7.72 7.72c-.78.78-.78 2.05 0 2.83L4 21.41c.39.39.9.59 1.41.59.51 0 1.02-.2 1.41-.59l7.78-7.78 2.81-2.81c.8-.78.8-2.07 0-2.86zM5.41 20L4 18.59l7.72-7.72 1.47 1.35L5.41 20z\"/>\n",
              "  </svg>\n",
              "      </button>\n",
              "      \n",
              "  <style>\n",
              "    .colab-df-container {\n",
              "      display:flex;\n",
              "      flex-wrap:wrap;\n",
              "      gap: 12px;\n",
              "    }\n",
              "\n",
              "    .colab-df-convert {\n",
              "      background-color: #E8F0FE;\n",
              "      border: none;\n",
              "      border-radius: 50%;\n",
              "      cursor: pointer;\n",
              "      display: none;\n",
              "      fill: #1967D2;\n",
              "      height: 32px;\n",
              "      padding: 0 0 0 0;\n",
              "      width: 32px;\n",
              "    }\n",
              "\n",
              "    .colab-df-convert:hover {\n",
              "      background-color: #E2EBFA;\n",
              "      box-shadow: 0px 1px 2px rgba(60, 64, 67, 0.3), 0px 1px 3px 1px rgba(60, 64, 67, 0.15);\n",
              "      fill: #174EA6;\n",
              "    }\n",
              "\n",
              "    [theme=dark] .colab-df-convert {\n",
              "      background-color: #3B4455;\n",
              "      fill: #D2E3FC;\n",
              "    }\n",
              "\n",
              "    [theme=dark] .colab-df-convert:hover {\n",
              "      background-color: #434B5C;\n",
              "      box-shadow: 0px 1px 3px 1px rgba(0, 0, 0, 0.15);\n",
              "      filter: drop-shadow(0px 1px 2px rgba(0, 0, 0, 0.3));\n",
              "      fill: #FFFFFF;\n",
              "    }\n",
              "  </style>\n",
              "\n",
              "      <script>\n",
              "        const buttonEl =\n",
              "          document.querySelector('#df-ce02468f-2bce-457e-9814-1c8a92d5318b button.colab-df-convert');\n",
              "        buttonEl.style.display =\n",
              "          google.colab.kernel.accessAllowed ? 'block' : 'none';\n",
              "\n",
              "        async function convertToInteractive(key) {\n",
              "          const element = document.querySelector('#df-ce02468f-2bce-457e-9814-1c8a92d5318b');\n",
              "          const dataTable =\n",
              "            await google.colab.kernel.invokeFunction('convertToInteractive',\n",
              "                                                     [key], {});\n",
              "          if (!dataTable) return;\n",
              "\n",
              "          const docLinkHtml = 'Like what you see? Visit the ' +\n",
              "            '<a target=\"_blank\" href=https://colab.research.google.com/notebooks/data_table.ipynb>data table notebook</a>'\n",
              "            + ' to learn more about interactive tables.';\n",
              "          element.innerHTML = '';\n",
              "          dataTable['output_type'] = 'display_data';\n",
              "          await google.colab.output.renderOutput(dataTable, element);\n",
              "          const docLink = document.createElement('div');\n",
              "          docLink.innerHTML = docLinkHtml;\n",
              "          element.appendChild(docLink);\n",
              "        }\n",
              "      </script>\n",
              "    </div>\n",
              "  </div>\n",
              "  "
            ],
            "text/plain": [
              "                                       accuracy  precision    recall        f1\n",
              "model_0_baseline                      74.975805   0.743197  0.749758  0.738957\n",
              "model_1_custom_token_embed_conv1d     84.314945   0.840285  0.843149  0.840380\n",
              "model_2_tribrid_pos_char_token_embed  86.914144   0.868820  0.869141  0.867554"
            ]
          },
          "metadata": {},
          "execution_count": 118
        }
      ],
      "source": [
        "model_results = pd.DataFrame(\n",
        "    {\n",
        "        \"model_0_baseline\": baseline_results,\n",
        "        \"model_1_custom_token_embed_conv1d\": model_1_results,\n",
        "        \"model_2_tribrid_pos_char_token_embed\": model_2_results\n",
        "    }\n",
        ")\n",
        "\n",
        "model_results = model_results.transpose()\n",
        "model_results"
      ]
    },
    {
      "cell_type": "code",
      "execution_count": 119,
      "metadata": {
        "id": "GQx0n9CKqYJ8"
      },
      "outputs": [],
      "source": [
        "model_results[\"accuracy\"] = model_results[\"accuracy\"]/100"
      ]
    },
    {
      "cell_type": "code",
      "execution_count": 120,
      "metadata": {
        "colab": {
          "base_uri": "https://localhost:8080/",
          "height": 636
        },
        "id": "YD78VYOvqZuM",
        "outputId": "72cb3d02-69e9-4415-fc5b-5bb8d1c040d9"
      },
      "outputs": [
        {
          "output_type": "execute_result",
          "data": {
            "text/plain": [
              "<matplotlib.legend.Legend at 0x7f29bff84c50>"
            ]
          },
          "metadata": {},
          "execution_count": 120
        },
        {
          "output_type": "display_data",
          "data": {
            "image/png": "[encoded data removed]",
            "text/plain": [
              "<Figure size 720x504 with 1 Axes>"
            ]
          },
          "metadata": {
            "needs_background": "light"
          }
        }
      ],
      "source": [
        "model_results.plot(kind=\"bar\",figsize=(10,7)).legend(bbox_to_anchor=(1.0,1.0))"
      ]
    },
    {
      "cell_type": "code",
      "execution_count": 121,
      "metadata": {
        "colab": {
          "base_uri": "https://localhost:8080/",
          "height": 636
        },
        "id": "dD8hZ-Gfqb_e",
        "outputId": "5fff07e6-58b3-4b59-a4ff-7005b7294f5b"
      },
      "outputs": [
        {
          "output_type": "execute_result",
          "data": {
            "text/plain": [
              "<matplotlib.axes._subplots.AxesSubplot at 0x7f29533e1d90>"
            ]
          },
          "metadata": {},
          "execution_count": 121
        },
        {
          "output_type": "display_data",
          "data": {
            "image/png": "[encoded data removed]",
            "text/plain": [
              "<Figure size 720x504 with 1 Axes>"
            ]
          },
          "metadata": {
            "needs_background": "light"
          }
        }
      ],
      "source": [
        "model_results.sort_values(\"f1\",ascending = True)[\"f1\"].plot(kind = \"bar\", figsize = (10,7))"
      ]
    },
    {
      "cell_type": "markdown",
      "metadata": {
        "id": "IvJZIys2G54p"
      },
      "source": [
        "## save and load model"
      ]
    },
    {
      "cell_type": "code",
      "execution_count": 122,
      "metadata": {
        "colab": {
          "base_uri": "https://localhost:8080/"
        },
        "id": "lFqy_wMhHJ3n",
        "outputId": "eb3dd131-21fd-4c74-a9ff-1fbcabf2dba3"
      },
      "outputs": [
        {
          "output_type": "stream",
          "name": "stderr",
          "text": [
            "WARNING:absl:Found untraced functions such as lstm_cell_1_layer_call_fn, lstm_cell_1_layer_call_and_return_conditional_losses, lstm_cell_2_layer_call_fn, lstm_cell_2_layer_call_and_return_conditional_losses, lstm_cell_1_layer_call_fn while saving (showing 5 of 10). These functions will not be directly callable after loading.\n"
          ]
        },
        {
          "output_type": "stream",
          "name": "stdout",
          "text": [
            "INFO:tensorflow:Assets written to: /content/drive/MyDrive/machine_learning/pubmed_200k_model/assets\n"
          ]
        },
        {
          "output_type": "stream",
          "name": "stderr",
          "text": [
            "INFO:tensorflow:Assets written to: /content/drive/MyDrive/machine_learning/pubmed_200k_model/assets\n",
            "WARNING:absl:<keras.layers.recurrent.LSTMCell object at 0x7f2834d01fd0> has the same name 'LSTMCell' as a built-in Keras object. Consider renaming <class 'keras.layers.recurrent.LSTMCell'> to avoid naming conflicts when loading with `tf.keras.models.load_model`. If renaming is not possible, pass the object in the `custom_objects` parameter of the load function.\n",
            "WARNING:absl:<keras.layers.recurrent.LSTMCell object at 0x7f2834bbd710> has the same name 'LSTMCell' as a built-in Keras object. Consider renaming <class 'keras.layers.recurrent.LSTMCell'> to avoid naming conflicts when loading with `tf.keras.models.load_model`. If renaming is not possible, pass the object in the `custom_objects` parameter of the load function.\n"
          ]
        }
      ],
      "source": [
        "model_2.save(\"/content/drive/MyDrive/machine_learning/pubmed_200k_model\")"
      ]
    },
    {
      "cell_type": "code",
      "execution_count": 123,
      "metadata": {
        "id": "6SZH7_DsHNdr"
      },
      "outputs": [],
      "source": [
        "import tensorflow_hub as hub\n",
        "import tensorflow as tf\n",
        "from tensorflow.keras.layers import TextVectorization"
      ]
    },
    {
      "cell_type": "code",
      "execution_count": 124,
      "metadata": {
        "id": "7OQicOjKHQUd"
      },
      "outputs": [],
      "source": [
        "model_path = \"/content/drive/MyDrive/machine_learning/pubmed_200k_model\"\n",
        "loaded_model = tf.keras.models.load_model(model_path,custom_objects={\"TextVectorization\": TextVectorization,\"KerasLayer\": hub.KerasLayer})"
      ]
    },
    {
      "cell_type": "code",
      "execution_count": 125,
      "metadata": {
        "colab": {
          "base_uri": "https://localhost:8080/"
        },
        "id": "x0lZ--o0HkoT",
        "outputId": "55dfe15a-1ae9-4ea6-9219-a1142f028e3a"
      },
      "outputs": [
        {
          "output_type": "stream",
          "name": "stdout",
          "text": [
            "905/905 [==============================] - 133s 145ms/step\n"
          ]
        },
        {
          "output_type": "execute_result",
          "data": {
            "text/plain": [
              "<tf.Tensor: shape=(10,), dtype=int64, numpy=array([0, 2, 4, 4, 4, 4, 4, 4, 1, 3])>"
            ]
          },
          "metadata": {},
          "execution_count": 125
        }
      ],
      "source": [
        "loaded_pred_probs = loaded_model.predict(final_val_dataset, verbose=1)\n",
        "loaded_preds = tf.argmax(loaded_pred_probs, axis=1)\n",
        "loaded_preds[:10]"
      ]
    },
    {
      "cell_type": "code",
      "execution_count": 126,
      "metadata": {
        "colab": {
          "base_uri": "https://localhost:8080/"
        },
        "id": "lVubfCmvHsSC",
        "outputId": "36b44640-17ef-4e24-ffa8-be7350649b8a"
      },
      "outputs": [
        {
          "output_type": "execute_result",
          "data": {
            "text/plain": [
              "{'accuracy': 86.8553850407853,\n",
              " 'f1': 0.8669024324218565,\n",
              " 'precision': 0.8680289642340726,\n",
              " 'recall': 0.8685538504078529}"
            ]
          },
          "metadata": {},
          "execution_count": 126
        }
      ],
      "source": [
        "loaded_model_results = calculate_results(val_labels_encoded,\n",
        "                                         loaded_preds)\n",
        "loaded_model_results"
      ]
    },
    {
      "cell_type": "code",
      "execution_count": 127,
      "metadata": {
        "colab": {
          "base_uri": "https://localhost:8080/"
        },
        "id": "zRY6ptCIHwfT",
        "outputId": "c8854689-aecc-48b0-8035-34a2e60c0b69"
      },
      "outputs": [
        {
          "output_type": "execute_result",
          "data": {
            "text/plain": [
              "array([ True,  True,  True,  True])"
            ]
          },
          "metadata": {},
          "execution_count": 127
        }
      ],
      "source": [
        "np.isclose(list(model_2_results.values()), list(loaded_model_results.values()), rtol=1e-02)"
      ]
    },
    {
      "cell_type": "code",
      "execution_count": 128,
      "metadata": {
        "colab": {
          "base_uri": "https://localhost:8080/"
        },
        "id": "qxGqcsujHw3V",
        "outputId": "f9cf8232-14c3-4273-ab0d-b466bedb6614"
      },
      "outputs": [
        {
          "output_type": "stream",
          "name": "stdout",
          "text": [
            "Model: \"tribrid_embedding_model\"\n",
            "__________________________________________________________________________________________________\n",
            " Layer (type)                   Output Shape         Param #     Connected to                     \n",
            "==================================================================================================\n",
            " char_inputs (InputLayer)       [(None, 1)]          0           []                               \n",
            "                                                                                                  \n",
            " token_inputs (InputLayer)      [(None,)]            0           []                               \n",
            "                                                                                                  \n",
            " char_vectorizer (TextVectoriza  (None, None)        0           ['char_inputs[0][0]']            \n",
            " tion)                                                                                            \n",
            "                                                                                                  \n",
            " USE (KerasLayer)               (None, 512)          256797824   ['token_inputs[0][0]']           \n",
            "                                                                                                  \n",
            " char_embed (Embedding)         (None, None, 25)     700         ['char_vectorizer[0][0]']        \n",
            "                                                                                                  \n",
            " dense (Dense)                  (None, 256)          131328      ['USE[0][0]']                    \n",
            "                                                                                                  \n",
            " bidirectional (Bidirectional)  (None, 48)           9600        ['char_embed[0][0]']             \n",
            "                                                                                                  \n",
            " char_token_hybrid_embedding (C  (None, 304)         0           ['dense[0][0]',                  \n",
            " oncatenate)                                                      'bidirectional[0][0]']          \n",
            "                                                                                                  \n",
            " line_no_inputs (InputLayer)    [(None, 15)]         0           []                               \n",
            "                                                                                                  \n",
            " total_lines_inputs (InputLayer  [(None, 20)]        0           []                               \n",
            " )                                                                                                \n",
            "                                                                                                  \n",
            " dense_3 (Dense)                (None, 256)          78080       ['char_token_hybrid_embedding[0][\n",
            "                                                                 0]']                             \n",
            "                                                                                                  \n",
            " dense_1 (Dense)                (None, 32)           512         ['line_no_inputs[0][0]']         \n",
            "                                                                                                  \n",
            " dense_2 (Dense)                (None, 32)           672         ['total_lines_inputs[0][0]']     \n",
            "                                                                                                  \n",
            " dropout (Dropout)              (None, 256)          0           ['dense_3[0][0]']                \n",
            "                                                                                                  \n",
            " char_token_positional_embeddin  (None, 320)         0           ['dense_1[0][0]',                \n",
            " g (Concatenate)                                                  'dense_2[0][0]',                \n",
            "                                                                  'dropout[0][0]']                \n",
            "                                                                                                  \n",
            " output_layer (Dense)           (None, 5)            1605        ['char_token_positional_embedding\n",
            "                                                                 [0][0]']                         \n",
            "                                                                                                  \n",
            "==================================================================================================\n",
            "Total params: 257,020,321\n",
            "Trainable params: 222,497\n",
            "Non-trainable params: 256,797,824\n",
            "__________________________________________________________________________________________________\n"
          ]
        }
      ],
      "source": [
        "loaded_model.summary()"
      ]
    },
    {
      "cell_type": "markdown",
      "metadata": {
        "id": "CeoNljA3Hyn1"
      },
      "source": [
        "## Evaluate Model on test data"
      ]
    },
    {
      "cell_type": "code",
      "execution_count": 129,
      "metadata": {
        "colab": {
          "base_uri": "https://localhost:8080/"
        },
        "id": "19IoCs16H1dN",
        "outputId": "b9e16e4d-0451-47b7-8388-4d7de89d6f38"
      },
      "outputs": [
        {
          "output_type": "stream",
          "name": "stdout",
          "text": [
            "922/922 [==============================] - 133s 144ms/step\n"
          ]
        },
        {
          "output_type": "execute_result",
          "data": {
            "text/plain": [
              "<tf.Tensor: shape=(29493,), dtype=int64, numpy=array([0, 0, 2, ..., 4, 1, 1])>"
            ]
          },
          "metadata": {},
          "execution_count": 129
        }
      ],
      "source": [
        "test_pred_probs = loaded_model.predict(final_test_dataset,verbose = 1)\n",
        "test_preds = tf.argmax(test_pred_probs,axis = 1)\n",
        "test_preds"
      ]
    },
    {
      "cell_type": "code",
      "execution_count": 130,
      "metadata": {
        "colab": {
          "base_uri": "https://localhost:8080/"
        },
        "id": "1ykfmbZUJUDp",
        "outputId": "ebd90b25-4d1e-465a-b8b5-4f8526e54bd1"
      },
      "outputs": [
        {
          "output_type": "execute_result",
          "data": {
            "text/plain": [
              "{'accuracy': 86.87824229478181,\n",
              " 'f1': 0.8670553144796512,\n",
              " 'precision': 0.8676670840598267,\n",
              " 'recall': 0.8687824229478182}"
            ]
          },
          "metadata": {},
          "execution_count": 130
        }
      ],
      "source": [
        "test_results = calculate_results(y_true = test_labels_encoded,\n",
        "                                 y_pred = test_preds)\n",
        "test_results"
      ]
    },
    {
      "cell_type": "markdown",
      "metadata": {
        "id": "0c69uXeZJYCd"
      },
      "source": [
        "## Visualizing model results on TensorBoard"
      ]
    },
    {
      "cell_type": "code",
      "execution_count": 131,
      "metadata": {
        "colab": {
          "base_uri": "https://localhost:8080/"
        },
        "id": "sVZDGbfgJh1U",
        "outputId": "35c6510b-95fc-4d6a-f064-436b55ab0ac9"
      },
      "outputs": [
        {
          "output_type": "stream",
          "name": "stdout",
          "text": [
            "\n",
            "***** TensorBoard Uploader *****\n",
            "\n",
            "This will upload your TensorBoard logs to https://tensorboard.dev/ from\n",
            "the following directory:\n",
            "\n",
            "./PubMedAbstracts/\n",
            "\n",
            "This TensorBoard will be visible to everyone. Do not upload sensitive\n",
            "data.\n",
            "\n",
            "Your use of this service is subject to Google's Terms of Service\n",
            "<https://policies.google.com/terms> and Privacy Policy\n",
            "<https://policies.google.com/privacy>, and TensorBoard.dev's Terms of Service\n",
            "<https://tensorboard.dev/policy/terms/>.\n",
            "\n",
            "This notice will not be shown again while you are logged into the uploader.\n",
            "To log out, run `tensorboard dev auth revoke`.\n",
            "\n",
            "Continue? (yes/NO) yes\n",
            "\n",
            "Please visit this URL to authorize this application: https://accounts.google.com/o/oauth2/auth?response_type=code&client_id=373649185512-8v619h5kft38l4456nm2dj4ubeqsrvh6.apps.googleusercontent.com&redirect_uri=urn%3Aietf%3Awg%3Aoauth%3A2.0%3Aoob&scope=openid+https%3A%2F%2Fwww.googleapis.com%2Fauth%2Fuserinfo.email&state=iw4gUXrP1lUQlZYtWFAvc25uouKDTR&prompt=consent&access_type=offline\n",
            "Enter the authorization code: 4/1AX4XfWhhZBJJkMQ9wl7oyCu41GzZZrPZyfMdYVas6ETXBTwfcv8jk1CuV5k\n",
            "\n",
            "\n",
            "New experiment created. View your TensorBoard at: https://tensorboard.dev/experiment/uO51rI7tQQ6f5JXMyHNjRQ/\n",
            "\n",
            "\u001b[1m[2022-01-19T13:15:39]\u001b[0m Started scanning logdir.\n",
            "\u001b[1m[2022-01-19T13:15:40]\u001b[0m Total uploaded: 48 scalars, 0 tensors, 2 binary objects (1.3 MB)\n",
            "\u001b[1m[2022-01-19T13:15:40]\u001b[0m Done scanning logdir.\n",
            "\n",
            "\n",
            "Done. View your TensorBoard at https://tensorboard.dev/experiment/uO51rI7tQQ6f5JXMyHNjRQ/\n"
          ]
        }
      ],
      "source": [
        "# upload TensorBoard dev Records\n",
        "\n",
        "!tensorboard dev upload --logdir ./PubMedAbstracts/ \\\n",
        " --name \"Conv1D vs. TribridModel\" \\\n",
        " --description \"Comparing two different model architecutures using 20% of the training data\"\\\n",
        " --one_shot"
      ]
    },
    {
      "cell_type": "code",
      "execution_count": 132,
      "metadata": {
        "colab": {
          "base_uri": "https://localhost:8080/"
        },
        "id": "FOaAoP6yKlqk",
        "outputId": "10c44c6d-f965-4d81-d288-83be43b4e3cc"
      },
      "outputs": [
        {
          "output_type": "stream",
          "name": "stdout",
          "text": [
            "https://tensorboard.dev/experiment/uO51rI7tQQ6f5JXMyHNjRQ/\n",
            "\tName                 Conv1D vs. TribridModel\n",
            "\tDescription          Comparing two different model architecutures using 20% of the training data\n",
            "\tId                   uO51rI7tQQ6f5JXMyHNjRQ\n",
            "\tCreated              2022-01-19 13:15:39 (19 seconds ago)\n",
            "\tUpdated              2022-01-19 13:15:40 (18 seconds ago)\n",
            "\tRuns                 4\n",
            "\tTags                 5\n",
            "\tScalars              48\n",
            "\tTensor bytes         0\n",
            "\tBinary object bytes  1401769\n",
            "Total: 1 experiment(s)\n"
          ]
        }
      ],
      "source": [
        "!tensorboard dev list"
      ]
    },
    {
      "cell_type": "markdown",
      "metadata": {
        "id": "hKFzaMRmJ9Jl"
      },
      "source": [
        "## Find Most Wrong predictions"
      ]
    },
    {
      "cell_type": "code",
      "execution_count": 133,
      "metadata": {
        "colab": {
          "base_uri": "https://localhost:8080/"
        },
        "id": "dGI9STt-KA1b",
        "outputId": "adc26f7e-ec42-4fa0-b421-06285147fb35"
      },
      "outputs": [
        {
          "output_type": "stream",
          "name": "stdout",
          "text": [
            "['BACKGROUND', 'BACKGROUND', 'METHODS', 'METHODS', 'RESULTS']\n"
          ]
        }
      ],
      "source": [
        "test_pred_classes = [label_encoder.classes_[pred] for pred in test_preds]\n",
        "print(test_pred_classes[:5])"
      ]
    },
    {
      "cell_type": "code",
      "execution_count": 134,
      "metadata": {
        "colab": {
          "base_uri": "https://localhost:8080/",
          "height": 676
        },
        "id": "7-gTLakZKDBl",
        "outputId": "1fb216b3-3443-408b-97b6-6db93aaf8879"
      },
      "outputs": [
        {
          "output_type": "execute_result",
          "data": {
            "text/html": [
              "\n",
              "  <div id=\"df-147a2787-d35d-4086-9060-12eafe5e10d1\">\n",
              "    <div class=\"colab-df-container\">\n",
              "      <div>\n",
              "<style scoped>\n",
              "    .dataframe tbody tr th:only-of-type {\n",
              "        vertical-align: middle;\n",
              "    }\n",
              "\n",
              "    .dataframe tbody tr th {\n",
              "        vertical-align: top;\n",
              "    }\n",
              "\n",
              "    .dataframe thead th {\n",
              "        text-align: right;\n",
              "    }\n",
              "</style>\n",
              "<table border=\"1\" class=\"dataframe\">\n",
              "  <thead>\n",
              "    <tr style=\"text-align: right;\">\n",
              "      <th></th>\n",
              "      <th>target</th>\n",
              "      <th>text</th>\n",
              "      <th>line_number</th>\n",
              "      <th>total_lines</th>\n",
              "      <th>prediction</th>\n",
              "      <th>pred_prob</th>\n",
              "      <th>correct</th>\n",
              "    </tr>\n",
              "  </thead>\n",
              "  <tbody>\n",
              "    <tr>\n",
              "      <th>0</th>\n",
              "      <td>BACKGROUND</td>\n",
              "      <td>many pathogenic processes and diseases are the...</td>\n",
              "      <td>0</td>\n",
              "      <td>10</td>\n",
              "      <td>BACKGROUND</td>\n",
              "      <td>0.645212</td>\n",
              "      <td>True</td>\n",
              "    </tr>\n",
              "    <tr>\n",
              "      <th>1</th>\n",
              "      <td>BACKGROUND</td>\n",
              "      <td>it was recently demonstrated that supraphysiol...</td>\n",
              "      <td>1</td>\n",
              "      <td>10</td>\n",
              "      <td>BACKGROUND</td>\n",
              "      <td>0.594822</td>\n",
              "      <td>True</td>\n",
              "    </tr>\n",
              "    <tr>\n",
              "      <th>2</th>\n",
              "      <td>BACKGROUND</td>\n",
              "      <td>in the present study , we examined the associa...</td>\n",
              "      <td>2</td>\n",
              "      <td>10</td>\n",
              "      <td>METHODS</td>\n",
              "      <td>0.546891</td>\n",
              "      <td>False</td>\n",
              "    </tr>\n",
              "    <tr>\n",
              "      <th>3</th>\n",
              "      <td>BACKGROUND</td>\n",
              "      <td>in addition , we compared plasma levels of map...</td>\n",
              "      <td>3</td>\n",
              "      <td>10</td>\n",
              "      <td>METHODS</td>\n",
              "      <td>0.763173</td>\n",
              "      <td>False</td>\n",
              "    </tr>\n",
              "    <tr>\n",
              "      <th>4</th>\n",
              "      <td>METHODS</td>\n",
              "      <td>a total of @ mi patients and @ control persons...</td>\n",
              "      <td>4</td>\n",
              "      <td>10</td>\n",
              "      <td>RESULTS</td>\n",
              "      <td>0.757400</td>\n",
              "      <td>False</td>\n",
              "    </tr>\n",
              "    <tr>\n",
              "      <th>5</th>\n",
              "      <td>METHODS</td>\n",
              "      <td>plasma samples were obtained and analysed with...</td>\n",
              "      <td>5</td>\n",
              "      <td>10</td>\n",
              "      <td>METHODS</td>\n",
              "      <td>0.812095</td>\n",
              "      <td>True</td>\n",
              "    </tr>\n",
              "    <tr>\n",
              "      <th>6</th>\n",
              "      <td>METHODS</td>\n",
              "      <td>the myocardial outcomes ( salvage index and fi...</td>\n",
              "      <td>6</td>\n",
              "      <td>10</td>\n",
              "      <td>METHODS</td>\n",
              "      <td>0.696745</td>\n",
              "      <td>True</td>\n",
              "    </tr>\n",
              "    <tr>\n",
              "      <th>7</th>\n",
              "      <td>RESULTS</td>\n",
              "      <td>mi patients had @ % higher plasma levels of ma...</td>\n",
              "      <td>7</td>\n",
              "      <td>10</td>\n",
              "      <td>RESULTS</td>\n",
              "      <td>0.858155</td>\n",
              "      <td>True</td>\n",
              "    </tr>\n",
              "    <tr>\n",
              "      <th>8</th>\n",
              "      <td>RESULTS</td>\n",
              "      <td>however , neither salvage index ( spearman rho...</td>\n",
              "      <td>8</td>\n",
              "      <td>10</td>\n",
              "      <td>RESULTS</td>\n",
              "      <td>0.862500</td>\n",
              "      <td>True</td>\n",
              "    </tr>\n",
              "    <tr>\n",
              "      <th>9</th>\n",
              "      <td>RESULTS</td>\n",
              "      <td>likewise , masp-@ and masp-@ were elevated in ...</td>\n",
              "      <td>9</td>\n",
              "      <td>10</td>\n",
              "      <td>RESULTS</td>\n",
              "      <td>0.820299</td>\n",
              "      <td>True</td>\n",
              "    </tr>\n",
              "    <tr>\n",
              "      <th>10</th>\n",
              "      <td>CONCLUSIONS</td>\n",
              "      <td>plasma levels of map@ , masp-@ , and masp-@ ar...</td>\n",
              "      <td>10</td>\n",
              "      <td>10</td>\n",
              "      <td>CONCLUSIONS</td>\n",
              "      <td>0.758089</td>\n",
              "      <td>True</td>\n",
              "    </tr>\n",
              "    <tr>\n",
              "      <th>11</th>\n",
              "      <td>OBJECTIVE</td>\n",
              "      <td>we tested whether a brief cognitive behavioral...</td>\n",
              "      <td>0</td>\n",
              "      <td>6</td>\n",
              "      <td>OBJECTIVE</td>\n",
              "      <td>0.575788</td>\n",
              "      <td>True</td>\n",
              "    </tr>\n",
              "    <tr>\n",
              "      <th>12</th>\n",
              "      <td>METHODS</td>\n",
              "      <td>three hundred seventy-eight adolescents ( m ag...</td>\n",
              "      <td>1</td>\n",
              "      <td>6</td>\n",
              "      <td>METHODS</td>\n",
              "      <td>0.800782</td>\n",
              "      <td>True</td>\n",
              "    </tr>\n",
              "    <tr>\n",
              "      <th>13</th>\n",
              "      <td>METHODS</td>\n",
              "      <td>participants were assessed at pretest , postte...</td>\n",
              "      <td>2</td>\n",
              "      <td>6</td>\n",
              "      <td>METHODS</td>\n",
              "      <td>0.738037</td>\n",
              "      <td>True</td>\n",
              "    </tr>\n",
              "    <tr>\n",
              "      <th>14</th>\n",
              "      <td>RESULTS</td>\n",
              "      <td>cb group participants showed a significantly l...</td>\n",
              "      <td>3</td>\n",
              "      <td>6</td>\n",
              "      <td>RESULTS</td>\n",
              "      <td>0.731933</td>\n",
              "      <td>True</td>\n",
              "    </tr>\n",
              "    <tr>\n",
              "      <th>15</th>\n",
              "      <td>RESULTS</td>\n",
              "      <td>planned contrasts indicated that cb group resu...</td>\n",
              "      <td>4</td>\n",
              "      <td>6</td>\n",
              "      <td>RESULTS</td>\n",
              "      <td>0.838947</td>\n",
              "      <td>True</td>\n",
              "    </tr>\n",
              "    <tr>\n",
              "      <th>16</th>\n",
              "      <td>RESULTS</td>\n",
              "      <td>condition effects were nonsignificant for soci...</td>\n",
              "      <td>5</td>\n",
              "      <td>6</td>\n",
              "      <td>METHODS</td>\n",
              "      <td>0.618615</td>\n",
              "      <td>False</td>\n",
              "    </tr>\n",
              "    <tr>\n",
              "      <th>17</th>\n",
              "      <td>CONCLUSIONS</td>\n",
              "      <td>the finding that a brief cb group intervention...</td>\n",
              "      <td>6</td>\n",
              "      <td>6</td>\n",
              "      <td>RESULTS</td>\n",
              "      <td>0.571166</td>\n",
              "      <td>False</td>\n",
              "    </tr>\n",
              "    <tr>\n",
              "      <th>18</th>\n",
              "      <td>BACKGROUND</td>\n",
              "      <td>the purpose of these two studies was to define...</td>\n",
              "      <td>0</td>\n",
              "      <td>12</td>\n",
              "      <td>OBJECTIVE</td>\n",
              "      <td>0.690986</td>\n",
              "      <td>False</td>\n",
              "    </tr>\n",
              "    <tr>\n",
              "      <th>19</th>\n",
              "      <td>METHODS</td>\n",
              "      <td>in two multicentre , dose-finding studies of t...</td>\n",
              "      <td>1</td>\n",
              "      <td>12</td>\n",
              "      <td>METHODS</td>\n",
              "      <td>0.790692</td>\n",
              "      <td>True</td>\n",
              "    </tr>\n",
              "  </tbody>\n",
              "</table>\n",
              "</div>\n",
              "      <button class=\"colab-df-convert\" onclick=\"convertToInteractive('df-147a2787-d35d-4086-9060-12eafe5e10d1')\"\n",
              "              title=\"Convert this dataframe to an interactive table.\"\n",
              "              style=\"display:none;\">\n",
              "        \n",
              "  <svg xmlns=\"http://www.w3.org/2000/svg\" height=\"24px\"viewBox=\"0 0 24 24\"\n",
              "       width=\"24px\">\n",
              "    <path d=\"M0 0h24v24H0V0z\" fill=\"none\"/>\n",
              "    <path d=\"M18.56 5.44l.94 2.06.94-2.06 2.06-.94-2.06-.94-.94-2.06-.94 2.06-2.06.94zm-11 1L8.5 8.5l.94-2.06 2.06-.94-2.06-.94L8.5 2.5l-.94 2.06-2.06.94zm10 10l.94 2.06.94-2.06 2.06-.94-2.06-.94-.94-2.06-.94 2.06-2.06.94z\"/><path d=\"M17.41 7.96l-1.37-1.37c-.4-.4-.92-.59-1.43-.59-.52 0-1.04.2-1.43.59L10.3 9.45l-7.72 7.72c-.78.78-.78 2.05 0 2.83L4 21.41c.39.39.9.59 1.41.59.51 0 1.02-.2 1.41-.59l7.78-7.78 2.81-2.81c.8-.78.8-2.07 0-2.86zM5.41 20L4 18.59l7.72-7.72 1.47 1.35L5.41 20z\"/>\n",
              "  </svg>\n",
              "      </button>\n",
              "      \n",
              "  <style>\n",
              "    .colab-df-container {\n",
              "      display:flex;\n",
              "      flex-wrap:wrap;\n",
              "      gap: 12px;\n",
              "    }\n",
              "\n",
              "    .colab-df-convert {\n",
              "      background-color: #E8F0FE;\n",
              "      border: none;\n",
              "      border-radius: 50%;\n",
              "      cursor: pointer;\n",
              "      display: none;\n",
              "      fill: #1967D2;\n",
              "      height: 32px;\n",
              "      padding: 0 0 0 0;\n",
              "      width: 32px;\n",
              "    }\n",
              "\n",
              "    .colab-df-convert:hover {\n",
              "      background-color: #E2EBFA;\n",
              "      box-shadow: 0px 1px 2px rgba(60, 64, 67, 0.3), 0px 1px 3px 1px rgba(60, 64, 67, 0.15);\n",
              "      fill: #174EA6;\n",
              "    }\n",
              "\n",
              "    [theme=dark] .colab-df-convert {\n",
              "      background-color: #3B4455;\n",
              "      fill: #D2E3FC;\n",
              "    }\n",
              "\n",
              "    [theme=dark] .colab-df-convert:hover {\n",
              "      background-color: #434B5C;\n",
              "      box-shadow: 0px 1px 3px 1px rgba(0, 0, 0, 0.15);\n",
              "      filter: drop-shadow(0px 1px 2px rgba(0, 0, 0, 0.3));\n",
              "      fill: #FFFFFF;\n",
              "    }\n",
              "  </style>\n",
              "\n",
              "      <script>\n",
              "        const buttonEl =\n",
              "          document.querySelector('#df-147a2787-d35d-4086-9060-12eafe5e10d1 button.colab-df-convert');\n",
              "        buttonEl.style.display =\n",
              "          google.colab.kernel.accessAllowed ? 'block' : 'none';\n",
              "\n",
              "        async function convertToInteractive(key) {\n",
              "          const element = document.querySelector('#df-147a2787-d35d-4086-9060-12eafe5e10d1');\n",
              "          const dataTable =\n",
              "            await google.colab.kernel.invokeFunction('convertToInteractive',\n",
              "                                                     [key], {});\n",
              "          if (!dataTable) return;\n",
              "\n",
              "          const docLinkHtml = 'Like what you see? Visit the ' +\n",
              "            '<a target=\"_blank\" href=https://colab.research.google.com/notebooks/data_table.ipynb>data table notebook</a>'\n",
              "            + ' to learn more about interactive tables.';\n",
              "          element.innerHTML = '';\n",
              "          dataTable['output_type'] = 'display_data';\n",
              "          await google.colab.output.renderOutput(dataTable, element);\n",
              "          const docLink = document.createElement('div');\n",
              "          docLink.innerHTML = docLinkHtml;\n",
              "          element.appendChild(docLink);\n",
              "        }\n",
              "      </script>\n",
              "    </div>\n",
              "  </div>\n",
              "  "
            ],
            "text/plain": [
              "         target  ... correct\n",
              "0    BACKGROUND  ...    True\n",
              "1    BACKGROUND  ...    True\n",
              "2    BACKGROUND  ...   False\n",
              "3    BACKGROUND  ...   False\n",
              "4       METHODS  ...   False\n",
              "5       METHODS  ...    True\n",
              "6       METHODS  ...    True\n",
              "7       RESULTS  ...    True\n",
              "8       RESULTS  ...    True\n",
              "9       RESULTS  ...    True\n",
              "10  CONCLUSIONS  ...    True\n",
              "11    OBJECTIVE  ...    True\n",
              "12      METHODS  ...    True\n",
              "13      METHODS  ...    True\n",
              "14      RESULTS  ...    True\n",
              "15      RESULTS  ...    True\n",
              "16      RESULTS  ...   False\n",
              "17  CONCLUSIONS  ...   False\n",
              "18   BACKGROUND  ...   False\n",
              "19      METHODS  ...    True\n",
              "\n",
              "[20 rows x 7 columns]"
            ]
          },
          "metadata": {},
          "execution_count": 134
        }
      ],
      "source": [
        "test_df[\"prediction\"] = test_pred_classes\n",
        "test_df[\"pred_prob\"] = tf.reduce_max(test_pred_probs, axis=1).numpy()\n",
        "test_df[\"correct\"] = test_df[\"prediction\"] == test_df[\"target\"]\n",
        "test_df.head(20)"
      ]
    },
    {
      "cell_type": "code",
      "execution_count": 135,
      "metadata": {
        "colab": {
          "base_uri": "https://localhost:8080/",
          "height": 363
        },
        "id": "nViGP0XvKIgX",
        "outputId": "a93baa97-c859-4cdd-e0c7-79e514a9191d"
      },
      "outputs": [
        {
          "output_type": "execute_result",
          "data": {
            "text/html": [
              "\n",
              "  <div id=\"df-59e94ab2-f176-4978-ac56-a5a6a94ea9b8\">\n",
              "    <div class=\"colab-df-container\">\n",
              "      <div>\n",
              "<style scoped>\n",
              "    .dataframe tbody tr th:only-of-type {\n",
              "        vertical-align: middle;\n",
              "    }\n",
              "\n",
              "    .dataframe tbody tr th {\n",
              "        vertical-align: top;\n",
              "    }\n",
              "\n",
              "    .dataframe thead th {\n",
              "        text-align: right;\n",
              "    }\n",
              "</style>\n",
              "<table border=\"1\" class=\"dataframe\">\n",
              "  <thead>\n",
              "    <tr style=\"text-align: right;\">\n",
              "      <th></th>\n",
              "      <th>target</th>\n",
              "      <th>text</th>\n",
              "      <th>line_number</th>\n",
              "      <th>total_lines</th>\n",
              "      <th>prediction</th>\n",
              "      <th>pred_prob</th>\n",
              "      <th>correct</th>\n",
              "    </tr>\n",
              "  </thead>\n",
              "  <tbody>\n",
              "    <tr>\n",
              "      <th>24135</th>\n",
              "      <td>CONCLUSIONS</td>\n",
              "      <td>national clinical trials registry nct@ .</td>\n",
              "      <td>11</td>\n",
              "      <td>11</td>\n",
              "      <td>BACKGROUND</td>\n",
              "      <td>0.920199</td>\n",
              "      <td>False</td>\n",
              "    </tr>\n",
              "    <tr>\n",
              "      <th>22933</th>\n",
              "      <td>METHODS</td>\n",
              "      <td>of the @ patients registered in the trial , @ ...</td>\n",
              "      <td>8</td>\n",
              "      <td>17</td>\n",
              "      <td>RESULTS</td>\n",
              "      <td>0.908006</td>\n",
              "      <td>False</td>\n",
              "    </tr>\n",
              "    <tr>\n",
              "      <th>13239</th>\n",
              "      <td>CONCLUSIONS</td>\n",
              "      <td>isrctn@ . )</td>\n",
              "      <td>14</td>\n",
              "      <td>14</td>\n",
              "      <td>BACKGROUND</td>\n",
              "      <td>0.900352</td>\n",
              "      <td>False</td>\n",
              "    </tr>\n",
              "    <tr>\n",
              "      <th>25764</th>\n",
              "      <td>OBJECTIVE</td>\n",
              "      <td>the study was conducted in a primary care popu...</td>\n",
              "      <td>3</td>\n",
              "      <td>17</td>\n",
              "      <td>METHODS</td>\n",
              "      <td>0.899751</td>\n",
              "      <td>False</td>\n",
              "    </tr>\n",
              "    <tr>\n",
              "      <th>15085</th>\n",
              "      <td>RESULTS</td>\n",
              "      <td>regado @a was a subject-blinded , dose-escalat...</td>\n",
              "      <td>3</td>\n",
              "      <td>15</td>\n",
              "      <td>METHODS</td>\n",
              "      <td>0.898594</td>\n",
              "      <td>False</td>\n",
              "    </tr>\n",
              "    <tr>\n",
              "      <th>2651</th>\n",
              "      <td>RESULTS</td>\n",
              "      <td>tumor necrosis factor ( tnf ) and interleukin ...</td>\n",
              "      <td>5</td>\n",
              "      <td>14</td>\n",
              "      <td>METHODS</td>\n",
              "      <td>0.895387</td>\n",
              "      <td>False</td>\n",
              "    </tr>\n",
              "    <tr>\n",
              "      <th>1728</th>\n",
              "      <td>OBJECTIVE</td>\n",
              "      <td>the national institute of oncology , budapest ...</td>\n",
              "      <td>4</td>\n",
              "      <td>20</td>\n",
              "      <td>METHODS</td>\n",
              "      <td>0.893613</td>\n",
              "      <td>False</td>\n",
              "    </tr>\n",
              "    <tr>\n",
              "      <th>27878</th>\n",
              "      <td>METHODS</td>\n",
              "      <td>of @ patients entered , @ ( @ % ) completed fo...</td>\n",
              "      <td>6</td>\n",
              "      <td>11</td>\n",
              "      <td>RESULTS</td>\n",
              "      <td>0.893136</td>\n",
              "      <td>False</td>\n",
              "    </tr>\n",
              "    <tr>\n",
              "      <th>22266</th>\n",
              "      <td>OBJECTIVE</td>\n",
              "      <td>procedure this was a randomized ( @:@ ) contro...</td>\n",
              "      <td>4</td>\n",
              "      <td>14</td>\n",
              "      <td>METHODS</td>\n",
              "      <td>0.890975</td>\n",
              "      <td>False</td>\n",
              "    </tr>\n",
              "    <tr>\n",
              "      <th>6186</th>\n",
              "      <td>METHODS</td>\n",
              "      <td>there were also no statistically significant d...</td>\n",
              "      <td>8</td>\n",
              "      <td>11</td>\n",
              "      <td>RESULTS</td>\n",
              "      <td>0.890347</td>\n",
              "      <td>False</td>\n",
              "    </tr>\n",
              "  </tbody>\n",
              "</table>\n",
              "</div>\n",
              "      <button class=\"colab-df-convert\" onclick=\"convertToInteractive('df-59e94ab2-f176-4978-ac56-a5a6a94ea9b8')\"\n",
              "              title=\"Convert this dataframe to an interactive table.\"\n",
              "              style=\"display:none;\">\n",
              "        \n",
              "  <svg xmlns=\"http://www.w3.org/2000/svg\" height=\"24px\"viewBox=\"0 0 24 24\"\n",
              "       width=\"24px\">\n",
              "    <path d=\"M0 0h24v24H0V0z\" fill=\"none\"/>\n",
              "    <path d=\"M18.56 5.44l.94 2.06.94-2.06 2.06-.94-2.06-.94-.94-2.06-.94 2.06-2.06.94zm-11 1L8.5 8.5l.94-2.06 2.06-.94-2.06-.94L8.5 2.5l-.94 2.06-2.06.94zm10 10l.94 2.06.94-2.06 2.06-.94-2.06-.94-.94-2.06-.94 2.06-2.06.94z\"/><path d=\"M17.41 7.96l-1.37-1.37c-.4-.4-.92-.59-1.43-.59-.52 0-1.04.2-1.43.59L10.3 9.45l-7.72 7.72c-.78.78-.78 2.05 0 2.83L4 21.41c.39.39.9.59 1.41.59.51 0 1.02-.2 1.41-.59l7.78-7.78 2.81-2.81c.8-.78.8-2.07 0-2.86zM5.41 20L4 18.59l7.72-7.72 1.47 1.35L5.41 20z\"/>\n",
              "  </svg>\n",
              "      </button>\n",
              "      \n",
              "  <style>\n",
              "    .colab-df-container {\n",
              "      display:flex;\n",
              "      flex-wrap:wrap;\n",
              "      gap: 12px;\n",
              "    }\n",
              "\n",
              "    .colab-df-convert {\n",
              "      background-color: #E8F0FE;\n",
              "      border: none;\n",
              "      border-radius: 50%;\n",
              "      cursor: pointer;\n",
              "      display: none;\n",
              "      fill: #1967D2;\n",
              "      height: 32px;\n",
              "      padding: 0 0 0 0;\n",
              "      width: 32px;\n",
              "    }\n",
              "\n",
              "    .colab-df-convert:hover {\n",
              "      background-color: #E2EBFA;\n",
              "      box-shadow: 0px 1px 2px rgba(60, 64, 67, 0.3), 0px 1px 3px 1px rgba(60, 64, 67, 0.15);\n",
              "      fill: #174EA6;\n",
              "    }\n",
              "\n",
              "    [theme=dark] .colab-df-convert {\n",
              "      background-color: #3B4455;\n",
              "      fill: #D2E3FC;\n",
              "    }\n",
              "\n",
              "    [theme=dark] .colab-df-convert:hover {\n",
              "      background-color: #434B5C;\n",
              "      box-shadow: 0px 1px 3px 1px rgba(0, 0, 0, 0.15);\n",
              "      filter: drop-shadow(0px 1px 2px rgba(0, 0, 0, 0.3));\n",
              "      fill: #FFFFFF;\n",
              "    }\n",
              "  </style>\n",
              "\n",
              "      <script>\n",
              "        const buttonEl =\n",
              "          document.querySelector('#df-59e94ab2-f176-4978-ac56-a5a6a94ea9b8 button.colab-df-convert');\n",
              "        buttonEl.style.display =\n",
              "          google.colab.kernel.accessAllowed ? 'block' : 'none';\n",
              "\n",
              "        async function convertToInteractive(key) {\n",
              "          const element = document.querySelector('#df-59e94ab2-f176-4978-ac56-a5a6a94ea9b8');\n",
              "          const dataTable =\n",
              "            await google.colab.kernel.invokeFunction('convertToInteractive',\n",
              "                                                     [key], {});\n",
              "          if (!dataTable) return;\n",
              "\n",
              "          const docLinkHtml = 'Like what you see? Visit the ' +\n",
              "            '<a target=\"_blank\" href=https://colab.research.google.com/notebooks/data_table.ipynb>data table notebook</a>'\n",
              "            + ' to learn more about interactive tables.';\n",
              "          element.innerHTML = '';\n",
              "          dataTable['output_type'] = 'display_data';\n",
              "          await google.colab.output.renderOutput(dataTable, element);\n",
              "          const docLink = document.createElement('div');\n",
              "          docLink.innerHTML = docLinkHtml;\n",
              "          element.appendChild(docLink);\n",
              "        }\n",
              "      </script>\n",
              "    </div>\n",
              "  </div>\n",
              "  "
            ],
            "text/plain": [
              "            target  ... correct\n",
              "24135  CONCLUSIONS  ...   False\n",
              "22933      METHODS  ...   False\n",
              "13239  CONCLUSIONS  ...   False\n",
              "25764    OBJECTIVE  ...   False\n",
              "15085      RESULTS  ...   False\n",
              "2651       RESULTS  ...   False\n",
              "1728     OBJECTIVE  ...   False\n",
              "27878      METHODS  ...   False\n",
              "22266    OBJECTIVE  ...   False\n",
              "6186       METHODS  ...   False\n",
              "\n",
              "[10 rows x 7 columns]"
            ]
          },
          "metadata": {},
          "execution_count": 135
        }
      ],
      "source": [
        "top_10_wrong = test_df[test_df[\"correct\"] == False].sort_values(\"pred_prob\", ascending=False)[:10]\n",
        "top_10_wrong"
      ]
    },
    {
      "cell_type": "markdown",
      "metadata": {
        "id": "A5S8Tp69KLRV"
      },
      "source": [
        "## Make Example Predictions"
      ]
    },
    {
      "cell_type": "code",
      "execution_count": 187,
      "metadata": {
        "id": "TzKHkm9EKOii"
      },
      "outputs": [],
      "source": [
        "from spacy.lang.en import English\n",
        "\n",
        "def split_to_sentence(example_abstract):\n",
        "    nlp = English() # setup English sentence parser\n",
        "    sentencizer = nlp.create_pipe(\"sentencizer\") # create sentence splitting pipeline object\n",
        "    nlp.add_pipe(sentencizer) # add sentence splitting pipeline object to sentence parser\n",
        "    doc = nlp(example_abstract) # create \"doc\" of parsed sequences, change index for a different abstract\n",
        "    abstract_lines = [str(sent) for sent in list(doc.sents)] # return detected sentences from doc in string type (not spaCy token type)\n",
        "    return abstract_lines"
      ]
    },
    {
      "cell_type": "code",
      "source": [
        "# Get total number of lines\n",
        "def make_dict(abstract_lines):\n",
        "    total_lines_in_sample = len(abstract_lines)\n",
        "\n",
        "    # Go through each line in abstract and create a list of dictionaries containing features for each line\n",
        "    sample_lines = []\n",
        "    for i, line in enumerate(abstract_lines):\n",
        "        sample_dict = {}\n",
        "        sample_dict[\"text\"] = str(line)\n",
        "        sample_dict[\"line_number\"] = i\n",
        "        sample_dict[\"total_lines\"] = total_lines_in_sample - 1\n",
        "        sample_lines.append(sample_dict)\n",
        "    return sample_lines"
      ],
      "metadata": {
        "id": "M6XahixMTzqF"
      },
      "execution_count": 188,
      "outputs": []
    },
    {
      "cell_type": "code",
      "source": [
        "from itertools import groupby, chain\n",
        "def prepro(example_abstract):\n",
        "    grouped = groupby(example_abstract, str.isdigit)\n",
        "    processed_abstract = ''.join(chain.from_iterable(\"@\" if k else g for k,g in grouped))\n",
        "    return processed_abstract"
      ],
      "metadata": {
        "id": "sQpolPXYs0ez"
      },
      "execution_count": 189,
      "outputs": []
    },
    {
      "cell_type": "code",
      "source": [
        "def encode_line_numbers(sample):\n",
        "    test_abstract_line_numbers = [line[\"line_number\"] for line in sample]\n",
        "    test_abstract_line_numbers_one_hot = tf.one_hot(test_abstract_line_numbers, depth=15) \n",
        "    return test_abstract_line_numbers_one_hot"
      ],
      "metadata": {
        "id": "FyxlXN3ivWcM"
      },
      "execution_count": 190,
      "outputs": []
    },
    {
      "cell_type": "code",
      "source": [
        "def encode_total_line_numbers(sample):\n",
        "    test_abstract_total_lines = [line[\"total_lines\"] for line in sample]\n",
        "    test_abstract_total_lines_one_hot = tf.one_hot(test_abstract_total_lines, depth=20)\n",
        "    return test_abstract_total_lines_one_hot"
      ],
      "metadata": {
        "id": "ZFP-Pa5Svg98"
      },
      "execution_count": 191,
      "outputs": []
    },
    {
      "cell_type": "code",
      "source": [
        "def to_chars(example_abstract):\n",
        "    abstract_chars = [split_to_chars(sentence) for sentence in example_abstract]\n",
        "    return abstract_chars"
      ],
      "metadata": {
        "id": "f32JmzfUvrkD"
      },
      "execution_count": 192,
      "outputs": []
    },
    {
      "cell_type": "code",
      "source": [
        "!wget \"https://raw.githubusercontent.com/khushimitr/PubMedAbstracts/main/Example_Doc1.json\"\n",
        "!wget \"https://raw.githubusercontent.com/khushimitr/PubMedAbstracts/main/Example_Doc2.json\""
      ],
      "metadata": {
        "colab": {
          "base_uri": "https://localhost:8080/"
        },
        "id": "94I2cp5_UgtP",
        "outputId": "875e4675-29df-4afb-b7d9-ed20dced71a9"
      },
      "execution_count": 194,
      "outputs": [
        {
          "output_type": "stream",
          "name": "stdout",
          "text": [
            "--2022-01-19 14:31:23--  https://raw.githubusercontent.com/khushimitr/PubMedAbstracts/main/Example_Doc1.json\n",
            "Resolving raw.githubusercontent.com (raw.githubusercontent.com)... 185.199.108.133, 185.199.109.133, 185.199.110.133, ...\n",
            "Connecting to raw.githubusercontent.com (raw.githubusercontent.com)|185.199.108.133|:443... connected.\n",
            "HTTP request sent, awaiting response... 200 OK\n",
            "Length: 925 [text/plain]\n",
            "Saving to: ‘Example_Doc1.json’\n",
            "\n",
            "\rExample_Doc1.json     0%[                    ]       0  --.-KB/s               \rExample_Doc1.json   100%[===================>]     925  --.-KB/s    in 0s      \n",
            "\n",
            "2022-01-19 14:31:23 (54.0 MB/s) - ‘Example_Doc1.json’ saved [925/925]\n",
            "\n",
            "--2022-01-19 14:31:23--  https://raw.githubusercontent.com/khushimitr/PubMedAbstracts/main/Example_Doc2.json\n",
            "Resolving raw.githubusercontent.com (raw.githubusercontent.com)... 185.199.108.133, 185.199.109.133, 185.199.110.133, ...\n",
            "Connecting to raw.githubusercontent.com (raw.githubusercontent.com)|185.199.108.133|:443... connected.\n",
            "HTTP request sent, awaiting response... 200 OK\n",
            "Length: 1720 (1.7K) [text/plain]\n",
            "Saving to: ‘Example_Doc2.json’\n",
            "\n",
            "Example_Doc2.json   100%[===================>]   1.68K  --.-KB/s    in 0s      \n",
            "\n",
            "2022-01-19 14:31:23 (33.1 MB/s) - ‘Example_Doc2.json’ saved [1720/1720]\n",
            "\n"
          ]
        }
      ]
    },
    {
      "cell_type": "code",
      "source": [
        "import json\n",
        "with open(\"/content/Example_Doc1.json\",\"r\") as f:\n",
        "    doc_1 = json.load(f)\n",
        "doc_1"
      ],
      "metadata": {
        "colab": {
          "base_uri": "https://localhost:8080/"
        },
        "id": "efwODB8ofIkV",
        "outputId": "c4585e6f-3f97-46b4-c27f-3d9998091113"
      },
      "execution_count": 195,
      "outputs": [
        {
          "output_type": "execute_result",
          "data": {
            "text/plain": [
              "[{'abstract': 'This RCT examined the efficacy of a manualized social intervention for children with HFASDs. Participants were randomly assigned to treatment or wait-list conditions. Treatment included instruction and therapeutic activities targeting social skills, face-emotion recognition, interest expansion, and interpretation of non-literal language. A response-cost program was applied to reduce problem behaviors and foster skills acquisition. Significant treatment effects were found for five of seven primary outcome measures (parent ratings and direct child measures). Secondary measures based on staff ratings (treatment group only) corroborated gains reported by parents. High levels of parent, child and staff satisfaction were reported, along with high levels of treatment fidelity. Standardized effect size estimates were primarily in the medium and large ranges and favored the treatment group.'}]"
            ]
          },
          "metadata": {},
          "execution_count": 195
        }
      ]
    },
    {
      "cell_type": "code",
      "source": [
        "import json\n",
        "with open(\"/content/Example_Doc2.json\",\"r\") as f:\n",
        "    doc_2 = json.load(f)\n",
        "doc_2"
      ],
      "metadata": {
        "colab": {
          "base_uri": "https://localhost:8080/"
        },
        "id": "R2MRMe9dfiBB",
        "outputId": "016c42d3-e471-4c18-8e63-c451f01b65f8"
      },
      "execution_count": 196,
      "outputs": [
        {
          "output_type": "execute_result",
          "data": {
            "text/plain": [
              "[{'abstract': \"Hepatitis C virus (HCV) and alcoholic liver disease (ALD), either alone or in combination, count for more than two thirds of all liver diseases in the Western world. There is no safe level of drinking in HCV-infected patients and the most effective goal for these patients is total abstinence. Baclofen, a GABA(B) receptor agonist, represents a promising pharmacotherapy for alcohol dependence (AD). Previously, we performed a randomized clinical trial (RCT), which demonstrated the safety and efficacy of baclofen in patients affected by AD and cirrhosis. The goal of this post-hoc analysis was to explore baclofen's effect in a subgroup of alcohol-dependent HCV-infected cirrhotic patients. Any patient with HCV infection was selected for this analysis. Among the 84 subjects randomized in the main trial, 24 alcohol-dependent cirrhotic patients had a HCV infection; 12 received baclofen 10mg t.i.d. and 12 received placebo for 12-weeks. With respect to the placebo group (3/12, 25.0%), a significantly higher number of patients who achieved and maintained total alcohol abstinence was found in the baclofen group (10/12, 83.3%; p=0.0123). Furthermore, in the baclofen group, compared to placebo, there was a significantly higher increase in albumin values from baseline (p=0.0132) and a trend toward a significant reduction in INR levels from baseline (p=0.0716). In conclusion, baclofen was safe and significantly more effective than placebo in promoting alcohol abstinence, and improving some Liver Function Tests (LFTs) (i.e. albumin, INR) in alcohol-dependent HCV-infected cirrhotic patients. Baclofen may represent a clinically relevant alcohol pharmacotherapy for these patients.\"}]"
            ]
          },
          "metadata": {},
          "execution_count": 196
        }
      ]
    },
    {
      "cell_type": "code",
      "source": [
        "doc1_sentences = split_to_sentence(doc_1[0][\"abstract\"])\n",
        "doc2_sentences = split_to_sentence(doc_2[0][\"abstract\"])"
      ],
      "metadata": {
        "id": "HYfTAlMHwZms"
      },
      "execution_count": 197,
      "outputs": []
    },
    {
      "cell_type": "code",
      "source": [
        "doc1_processed = prepro(doc_1[0][\"abstract\"])\n",
        "doc1_processed = split_to_sentence(doc1_processed)\n",
        "sample_doc1 = make_dict(doc1_processed)\n",
        "sample_chars_1 = to_chars(doc1_processed)\n",
        "lines_encoded_1 = encode_line_numbers(sample_doc1)\n",
        "total_lines_encoded_1 = encode_total_line_numbers(sample_doc1)\n",
        "sample_doc1"
      ],
      "metadata": {
        "colab": {
          "base_uri": "https://localhost:8080/"
        },
        "id": "KourpnN3t7Hg",
        "outputId": "d4d4f98e-ed8d-4937-b0ea-cfd6385e3545"
      },
      "execution_count": 201,
      "outputs": [
        {
          "output_type": "execute_result",
          "data": {
            "text/plain": [
              "[{'line_number': 0,\n",
              "  'text': 'This RCT examined the efficacy of a manualized social intervention for children with HFASDs.',\n",
              "  'total_lines': 7},\n",
              " {'line_number': 1,\n",
              "  'text': 'Participants were randomly assigned to treatment or wait-list conditions.',\n",
              "  'total_lines': 7},\n",
              " {'line_number': 2,\n",
              "  'text': 'Treatment included instruction and therapeutic activities targeting social skills, face-emotion recognition, interest expansion, and interpretation of non-literal language.',\n",
              "  'total_lines': 7},\n",
              " {'line_number': 3,\n",
              "  'text': 'A response-cost program was applied to reduce problem behaviors and foster skills acquisition.',\n",
              "  'total_lines': 7},\n",
              " {'line_number': 4,\n",
              "  'text': 'Significant treatment effects were found for five of seven primary outcome measures (parent ratings and direct child measures).',\n",
              "  'total_lines': 7},\n",
              " {'line_number': 5,\n",
              "  'text': 'Secondary measures based on staff ratings (treatment group only) corroborated gains reported by parents.',\n",
              "  'total_lines': 7},\n",
              " {'line_number': 6,\n",
              "  'text': 'High levels of parent, child and staff satisfaction were reported, along with high levels of treatment fidelity.',\n",
              "  'total_lines': 7},\n",
              " {'line_number': 7,\n",
              "  'text': 'Standardized effect size estimates were primarily in the medium and large ranges and favored the treatment group.',\n",
              "  'total_lines': 7}]"
            ]
          },
          "metadata": {},
          "execution_count": 201
        }
      ]
    },
    {
      "cell_type": "code",
      "source": [
        "doc2_processed = prepro(doc_2[0][\"abstract\"])\n",
        "doc2_processed = split_to_sentence(doc2_processed)\n",
        "sample_doc2 = make_dict(doc2_processed)\n",
        "sample_chars_2 = to_chars(doc2_processed)\n",
        "lines_encoded_2 = encode_line_numbers(sample_doc2)\n",
        "total_lines_encoded_2 = encode_total_line_numbers(sample_doc2)\n",
        "sample_doc2"
      ],
      "metadata": {
        "colab": {
          "base_uri": "https://localhost:8080/"
        },
        "id": "TfCydVD0ftax",
        "outputId": "d10b5ecc-3607-4413-e134-c809a59a1dfd"
      },
      "execution_count": 202,
      "outputs": [
        {
          "output_type": "execute_result",
          "data": {
            "text/plain": [
              "[{'line_number': 0,\n",
              "  'text': 'Hepatitis C virus (HCV) and alcoholic liver disease (ALD), either alone or in combination, count for more than two thirds of all liver diseases in the Western world.',\n",
              "  'total_lines': 11},\n",
              " {'line_number': 1,\n",
              "  'text': 'There is no safe level of drinking in HCV-infected patients and the most effective goal for these patients is total abstinence.',\n",
              "  'total_lines': 11},\n",
              " {'line_number': 2,\n",
              "  'text': 'Baclofen, a GABA(B) receptor agonist, represents a promising pharmacotherapy for alcohol dependence (AD).',\n",
              "  'total_lines': 11},\n",
              " {'line_number': 3,\n",
              "  'text': 'Previously, we performed a randomized clinical trial (RCT), which demonstrated the safety and efficacy of baclofen in patients affected by AD and cirrhosis.',\n",
              "  'total_lines': 11},\n",
              " {'line_number': 4,\n",
              "  'text': \"The goal of this post-hoc analysis was to explore baclofen's effect in a subgroup of alcohol-dependent HCV-infected cirrhotic patients.\",\n",
              "  'total_lines': 11},\n",
              " {'line_number': 5,\n",
              "  'text': 'Any patient with HCV infection was selected for this analysis.',\n",
              "  'total_lines': 11},\n",
              " {'line_number': 6,\n",
              "  'text': 'Among the @ subjects randomized in the main trial, @ alcohol-dependent cirrhotic patients had a HCV infection; @ received baclofen @mg t.i.d.',\n",
              "  'total_lines': 11},\n",
              " {'line_number': 7,\n",
              "  'text': 'and @ received placebo for @-weeks.',\n",
              "  'total_lines': 11},\n",
              " {'line_number': 8,\n",
              "  'text': 'With respect to the placebo group (@/@, @.@%), a significantly higher number of patients who achieved and maintained total alcohol abstinence was found in the baclofen group (@/@, @.@%; p=@.@).',\n",
              "  'total_lines': 11},\n",
              " {'line_number': 9,\n",
              "  'text': 'Furthermore, in the baclofen group, compared to placebo, there was a significantly higher increase in albumin values from baseline (p=@.@) and a trend toward a significant reduction in INR levels from baseline (p=@.@).',\n",
              "  'total_lines': 11},\n",
              " {'line_number': 10,\n",
              "  'text': 'In conclusion, baclofen was safe and significantly more effective than placebo in promoting alcohol abstinence, and improving some Liver Function Tests (LFTs) (i.e. albumin, INR) in alcohol-dependent HCV-infected cirrhotic patients.',\n",
              "  'total_lines': 11},\n",
              " {'line_number': 11,\n",
              "  'text': 'Baclofen may represent a clinically relevant alcohol pharmacotherapy for these patients.',\n",
              "  'total_lines': 11}]"
            ]
          },
          "metadata": {},
          "execution_count": 202
        }
      ]
    },
    {
      "cell_type": "code",
      "source": [
        "doc_1_pred_probs = loaded_model.predict(x=(lines_encoded_1,\n",
        "                                           total_lines_encoded_1,\n",
        "                                           tf.constant(doc1_processed),\n",
        "                                           tf.constant(sample_chars_1)))\n",
        "\n",
        "doc_2_pred_probs = loaded_model.predict(x=(lines_encoded_2,\n",
        "                                           total_lines_encoded_2,\n",
        "                                           tf.constant(doc2_processed),\n",
        "                                           tf.constant(sample_chars_2)))"
      ],
      "metadata": {
        "id": "FTTqe5QfUYBF"
      },
      "execution_count": 203,
      "outputs": []
    },
    {
      "cell_type": "code",
      "source": [
        "doc_1_preds = tf.argmax(doc_1_pred_probs, axis=1)\n",
        "doc_1_preds"
      ],
      "metadata": {
        "colab": {
          "base_uri": "https://localhost:8080/"
        },
        "id": "gCRW15A4UaBG",
        "outputId": "a3935de7-6f73-4175-bf8d-d28456b61a6d"
      },
      "execution_count": 204,
      "outputs": [
        {
          "output_type": "execute_result",
          "data": {
            "text/plain": [
              "<tf.Tensor: shape=(8,), dtype=int64, numpy=array([3, 2, 2, 2, 4, 2, 4, 4])>"
            ]
          },
          "metadata": {},
          "execution_count": 204
        }
      ]
    },
    {
      "cell_type": "code",
      "source": [
        "doc_2_preds = tf.argmax(doc_2_pred_probs, axis=1)\n",
        "doc_2_preds"
      ],
      "metadata": {
        "colab": {
          "base_uri": "https://localhost:8080/"
        },
        "id": "tbOGnwEOx8vQ",
        "outputId": "c2ef660e-1d59-4939-f06a-5c51cc125964"
      },
      "execution_count": 205,
      "outputs": [
        {
          "output_type": "execute_result",
          "data": {
            "text/plain": [
              "<tf.Tensor: shape=(12,), dtype=int64, numpy=array([0, 0, 0, 2, 4, 2, 4, 2, 4, 4, 1, 1])>"
            ]
          },
          "metadata": {},
          "execution_count": 205
        }
      ]
    },
    {
      "cell_type": "code",
      "source": [
        "doc_1_pred_classes = [label_encoder.classes_[i] for i in doc_1_preds]\n",
        "doc_1_pred_classes"
      ],
      "metadata": {
        "colab": {
          "base_uri": "https://localhost:8080/"
        },
        "id": "8eHQnK9RUb3N",
        "outputId": "436ed76e-4808-4ced-f498-70b2f58c4ecd"
      },
      "execution_count": 206,
      "outputs": [
        {
          "output_type": "execute_result",
          "data": {
            "text/plain": [
              "['OBJECTIVE',\n",
              " 'METHODS',\n",
              " 'METHODS',\n",
              " 'METHODS',\n",
              " 'RESULTS',\n",
              " 'METHODS',\n",
              " 'RESULTS',\n",
              " 'RESULTS']"
            ]
          },
          "metadata": {},
          "execution_count": 206
        }
      ]
    },
    {
      "cell_type": "code",
      "source": [
        "doc_2_pred_classes = [label_encoder.classes_[i] for i in doc_2_preds]\n",
        "doc_2_pred_classes"
      ],
      "metadata": {
        "colab": {
          "base_uri": "https://localhost:8080/"
        },
        "id": "Zte0ovylyE3v",
        "outputId": "f9bdb72f-74dc-4c95-a1ad-4358eee3e5fe"
      },
      "execution_count": 207,
      "outputs": [
        {
          "output_type": "execute_result",
          "data": {
            "text/plain": [
              "['BACKGROUND',\n",
              " 'BACKGROUND',\n",
              " 'BACKGROUND',\n",
              " 'METHODS',\n",
              " 'RESULTS',\n",
              " 'METHODS',\n",
              " 'RESULTS',\n",
              " 'METHODS',\n",
              " 'RESULTS',\n",
              " 'RESULTS',\n",
              " 'CONCLUSIONS',\n",
              " 'CONCLUSIONS']"
            ]
          },
          "metadata": {},
          "execution_count": 207
        }
      ]
    },
    {
      "cell_type": "code",
      "source": [
        "doc_1[0][\"abstract\"]"
      ],
      "metadata": {
        "colab": {
          "base_uri": "https://localhost:8080/",
          "height": 126
        },
        "id": "CJsocHXNyXh-",
        "outputId": "55b6e329-5add-4d93-eb15-cd055eab7b59"
      },
      "execution_count": 211,
      "outputs": [
        {
          "output_type": "execute_result",
          "data": {
            "application/vnd.google.colaboratory.intrinsic+json": {
              "type": "string"
            },
            "text/plain": [
              "'This RCT examined the efficacy of a manualized social intervention for children with HFASDs. Participants were randomly assigned to treatment or wait-list conditions. Treatment included instruction and therapeutic activities targeting social skills, face-emotion recognition, interest expansion, and interpretation of non-literal language. A response-cost program was applied to reduce problem behaviors and foster skills acquisition. Significant treatment effects were found for five of seven primary outcome measures (parent ratings and direct child measures). Secondary measures based on staff ratings (treatment group only) corroborated gains reported by parents. High levels of parent, child and staff satisfaction were reported, along with high levels of treatment fidelity. Standardized effect size estimates were primarily in the medium and large ranges and favored the treatment group.'"
            ]
          },
          "metadata": {},
          "execution_count": 211
        }
      ]
    },
    {
      "cell_type": "code",
      "source": [
        "for i, line in enumerate(doc1_sentences):\n",
        "  print(f\"{doc_1_pred_classes[i]}: {line}\")"
      ],
      "metadata": {
        "colab": {
          "base_uri": "https://localhost:8080/"
        },
        "id": "6xyuqfrhUeCr",
        "outputId": "14048a72-9c44-4cfb-9bad-f0eba4f8a0c5"
      },
      "execution_count": 208,
      "outputs": [
        {
          "output_type": "stream",
          "name": "stdout",
          "text": [
            "OBJECTIVE: This RCT examined the efficacy of a manualized social intervention for children with HFASDs.\n",
            "METHODS: Participants were randomly assigned to treatment or wait-list conditions.\n",
            "METHODS: Treatment included instruction and therapeutic activities targeting social skills, face-emotion recognition, interest expansion, and interpretation of non-literal language.\n",
            "METHODS: A response-cost program was applied to reduce problem behaviors and foster skills acquisition.\n",
            "RESULTS: Significant treatment effects were found for five of seven primary outcome measures (parent ratings and direct child measures).\n",
            "METHODS: Secondary measures based on staff ratings (treatment group only) corroborated gains reported by parents.\n",
            "RESULTS: High levels of parent, child and staff satisfaction were reported, along with high levels of treatment fidelity.\n",
            "RESULTS: Standardized effect size estimates were primarily in the medium and large ranges and favored the treatment group.\n"
          ]
        }
      ]
    },
    {
      "cell_type": "code",
      "source": [
        "doc_2[0][\"abstract\"]"
      ],
      "metadata": {
        "colab": {
          "base_uri": "https://localhost:8080/",
          "height": 145
        },
        "id": "DXyB6N5yyf4b",
        "outputId": "bdbbbefd-6dae-404f-9513-54695398666e"
      },
      "execution_count": 212,
      "outputs": [
        {
          "output_type": "execute_result",
          "data": {
            "application/vnd.google.colaboratory.intrinsic+json": {
              "type": "string"
            },
            "text/plain": [
              "\"Hepatitis C virus (HCV) and alcoholic liver disease (ALD), either alone or in combination, count for more than two thirds of all liver diseases in the Western world. There is no safe level of drinking in HCV-infected patients and the most effective goal for these patients is total abstinence. Baclofen, a GABA(B) receptor agonist, represents a promising pharmacotherapy for alcohol dependence (AD). Previously, we performed a randomized clinical trial (RCT), which demonstrated the safety and efficacy of baclofen in patients affected by AD and cirrhosis. The goal of this post-hoc analysis was to explore baclofen's effect in a subgroup of alcohol-dependent HCV-infected cirrhotic patients. Any patient with HCV infection was selected for this analysis. Among the 84 subjects randomized in the main trial, 24 alcohol-dependent cirrhotic patients had a HCV infection; 12 received baclofen 10mg t.i.d. and 12 received placebo for 12-weeks. With respect to the placebo group (3/12, 25.0%), a significantly higher number of patients who achieved and maintained total alcohol abstinence was found in the baclofen group (10/12, 83.3%; p=0.0123). Furthermore, in the baclofen group, compared to placebo, there was a significantly higher increase in albumin values from baseline (p=0.0132) and a trend toward a significant reduction in INR levels from baseline (p=0.0716). In conclusion, baclofen was safe and significantly more effective than placebo in promoting alcohol abstinence, and improving some Liver Function Tests (LFTs) (i.e. albumin, INR) in alcohol-dependent HCV-infected cirrhotic patients. Baclofen may represent a clinically relevant alcohol pharmacotherapy for these patients.\""
            ]
          },
          "metadata": {},
          "execution_count": 212
        }
      ]
    },
    {
      "cell_type": "code",
      "source": [
        "for i, line in enumerate(doc2_sentences):\n",
        "  print(f\"{doc_2_pred_classes[i]}: {line}\")"
      ],
      "metadata": {
        "colab": {
          "base_uri": "https://localhost:8080/"
        },
        "id": "5HP7zD0vyRkw",
        "outputId": "155cd033-9c7a-469e-b185-4e3e78b45aa7"
      },
      "execution_count": 209,
      "outputs": [
        {
          "output_type": "stream",
          "name": "stdout",
          "text": [
            "BACKGROUND: Hepatitis C virus (HCV) and alcoholic liver disease (ALD), either alone or in combination, count for more than two thirds of all liver diseases in the Western world.\n",
            "BACKGROUND: There is no safe level of drinking in HCV-infected patients and the most effective goal for these patients is total abstinence.\n",
            "BACKGROUND: Baclofen, a GABA(B) receptor agonist, represents a promising pharmacotherapy for alcohol dependence (AD).\n",
            "METHODS: Previously, we performed a randomized clinical trial (RCT), which demonstrated the safety and efficacy of baclofen in patients affected by AD and cirrhosis.\n",
            "RESULTS: The goal of this post-hoc analysis was to explore baclofen's effect in a subgroup of alcohol-dependent HCV-infected cirrhotic patients.\n",
            "METHODS: Any patient with HCV infection was selected for this analysis.\n",
            "RESULTS: Among the 84 subjects randomized in the main trial, 24 alcohol-dependent cirrhotic patients had a HCV infection; 12 received baclofen 10mg t.i.d.\n",
            "METHODS: and 12 received placebo for 12-weeks.\n",
            "RESULTS: With respect to the placebo group (3/12, 25.0%), a significantly higher number of patients who achieved and maintained total alcohol abstinence was found in the baclofen group (10/12, 83.3%; p=0.0123).\n",
            "RESULTS: Furthermore, in the baclofen group, compared to placebo, there was a significantly higher increase in albumin values from baseline (p=0.0132) and a trend toward a significant reduction in INR levels from baseline (p=0.0716).\n",
            "CONCLUSIONS: In conclusion, baclofen was safe and significantly more effective than placebo in promoting alcohol abstinence, and improving some Liver Function Tests (LFTs) (i.e. albumin, INR) in alcohol-dependent HCV-infected cirrhotic patients.\n",
            "CONCLUSIONS: Baclofen may represent a clinically relevant alcohol pharmacotherapy for these patients.\n"
          ]
        }
      ]
    }
  ],
  "metadata": {
    "accelerator": "GPU",
    "colab": {
      "collapsed_sections": [],
      "name": "PubMed_200K_RCT.ipynb",
      "provenance": [],
      "include_colab_link": true
    },
    "kernelspec": {
      "display_name": "Python 3",
      "name": "python3"
    },
    "language_info": {
      "name": "python"
    }
  },
  "nbformat": 4,
  "nbformat_minor": 0
}